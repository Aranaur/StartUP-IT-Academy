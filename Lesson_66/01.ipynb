{
 "cells": [
  {
   "cell_type": "markdown",
   "metadata": {
    "collapsed": false
   },
   "source": [
    "# Завдання\n",
    "Використовуючи тренувальний датасет з архіву `data.zip` та матеріалів з додаткових джерел, побудуйте систему детекції медичних масок на обличчі.\n",
    "\n",
    "## Рішення"
   ]
  },
  {
   "cell_type": "code",
   "execution_count": 2,
   "metadata": {
    "ExecuteTime": {
     "start_time": "2023-04-16T22:37:21.934652Z",
     "end_time": "2023-04-16T22:37:27.021810Z"
    },
    "collapsed": false
   },
   "outputs": [],
   "source": [
    "import splitfolders\n",
    "\n",
    "import torch\n",
    "import torch.nn as nn\n",
    "import torch.nn.functional as F\n",
    "import torch.optim as optim\n",
    "\n",
    "from torchvision import transforms\n",
    "\n",
    "from torchvision import datasets\n",
    "from torch.utils.data import DataLoader\n",
    "\n",
    "from torch.utils.tensorboard import SummaryWriter\n",
    "\n",
    "import warnings\n",
    "warnings.filterwarnings(\"ignore\")"
   ]
  },
  {
   "cell_type": "code",
   "execution_count": 5,
   "metadata": {
    "ExecuteTime": {
     "end_time": "2023-04-16T20:27:40.607441Z",
     "start_time": "2023-04-16T20:27:39.915997Z"
    },
    "collapsed": false
   },
   "outputs": [
    {
     "name": "stderr",
     "output_type": "stream",
     "text": [
      "Copying files: 1376 files [00:00, 2032.26 files/s]\n"
     ]
    }
   ],
   "source": [
    "# Розбиття на тренувальну та тестову вибірки\n",
    "splitfolders.ratio(input='img', output=\"data\", seed=2023, ratio=(.8, 0, 0.2))"
   ]
  },
  {
   "cell_type": "code",
   "execution_count": 4,
   "metadata": {
    "ExecuteTime": {
     "end_time": "2023-04-16T21:23:41.093244Z",
     "start_time": "2023-04-16T21:23:41.083311Z"
    },
    "collapsed": false
   },
   "outputs": [],
   "source": [
    "# визначення трансформацій зображень\n",
    "\n",
    "image_transforms = {\n",
    "    'train':\n",
    "    transforms.Compose([\n",
    "        transforms.Resize(size=(224,224)),\n",
    "        transforms.RandomRotation(degrees=15),\n",
    "        transforms.ColorJitter(),\n",
    "        transforms.RandomHorizontalFlip(),\n",
    "        transforms.ToTensor(),\n",
    "        transforms.Normalize([0.485, 0.456, 0.406],\n",
    "                             [0.229, 0.224, 0.225])\n",
    "    ]),\n",
    "    'test':\n",
    "    transforms.Compose([\n",
    "        transforms.Resize(size=(224,224)),\n",
    "        transforms.ToTensor(),\n",
    "        transforms.Normalize([0.485, 0.456, 0.406],\n",
    "                             [0.229, 0.224, 0.225])\n",
    "    ])\n",
    "}"
   ]
  },
  {
   "cell_type": "code",
   "execution_count": 5,
   "metadata": {
    "ExecuteTime": {
     "end_time": "2023-04-16T21:23:43.092389Z",
     "start_time": "2023-04-16T21:23:43.075647Z"
    },
    "collapsed": false
   },
   "outputs": [],
   "source": [
    "# Завантаження даних\n",
    "data = {\n",
    "    'train':\n",
    "    datasets.ImageFolder(root='./data/train', transform=image_transforms['train']),\n",
    "    'test':\n",
    "    datasets.ImageFolder(root='./data/test', transform=image_transforms['test']),\n",
    "}\n",
    "\n",
    "# Завантаження даних в даталоадери\n",
    "dataloaders = {\n",
    "    'train': DataLoader(data['train'], batch_size=100, shuffle=True),\n",
    "    'test': DataLoader(data['test'], batch_size=100, shuffle=True)\n",
    "}"
   ]
  },
  {
   "cell_type": "code",
   "execution_count": 3,
   "metadata": {
    "ExecuteTime": {
     "start_time": "2023-04-16T22:37:31.189632Z",
     "end_time": "2023-04-16T22:37:31.277950Z"
    },
    "collapsed": false
   },
   "outputs": [
    {
     "name": "stderr",
     "output_type": "stream",
     "text": [
      "Using cache found in C:\\Users\\ihorm/.cache\\torch\\hub\\pytorch_vision_v0.6.0\n"
     ]
    }
   ],
   "source": [
    "# завантаження MobileNetv2\n",
    "model = torch.hub.load('pytorch/vision:v0.6.0', 'mobilenet_v2', pretrained=True)"
   ]
  },
  {
   "cell_type": "code",
   "execution_count": 7,
   "metadata": {
    "ExecuteTime": {
     "end_time": "2023-04-16T21:23:49.202057Z",
     "start_time": "2023-04-16T21:23:49.187344Z"
    },
    "collapsed": false
   },
   "outputs": [],
   "source": [
    "# фіксація початкових шарів MobileNetv2\n",
    "for param in model.parameters():\n",
    "    param.requires_grad = False"
   ]
  },
  {
   "cell_type": "code",
   "execution_count": 8,
   "metadata": {
    "ExecuteTime": {
     "end_time": "2023-04-16T21:23:51.041389Z",
     "start_time": "2023-04-16T21:23:51.017808Z"
    },
    "collapsed": false
   },
   "outputs": [],
   "source": [
    "# додавання власного класифікатора\n",
    "model.classifier[1] = nn.Sequential(\n",
    "                      nn.Linear(1280, 256),\n",
    "                      nn.ReLU(),\n",
    "                      nn.Linear(256, 128),\n",
    "                      nn.ReLU(),\n",
    "                      nn.Dropout(0.4),\n",
    "                      nn.Linear(128, 64),\n",
    "                      nn.ReLU(),\n",
    "                      nn.Linear(64, 32),\n",
    "                      nn.ReLU(),\n",
    "                      nn.Dropout(0.4),\n",
    "                      nn.Linear(32, 2),\n",
    "                      nn.LogSoftmax(dim=1))"
   ]
  },
  {
   "cell_type": "code",
   "execution_count": 9,
   "metadata": {
    "ExecuteTime": {
     "end_time": "2023-04-16T21:23:53.750403Z",
     "start_time": "2023-04-16T21:23:53.738831Z"
    },
    "collapsed": false
   },
   "outputs": [
    {
     "name": "stdout",
     "output_type": "stream",
     "text": [
      "371234\n"
     ]
    }
   ],
   "source": [
    "# перевірка тренуваних параметрів\n",
    "print(sum(p.numel() for p in model.parameters() if p.requires_grad))"
   ]
  },
  {
   "cell_type": "code",
   "execution_count": 10,
   "metadata": {
    "ExecuteTime": {
     "end_time": "2023-04-16T21:23:55.341876Z",
     "start_time": "2023-04-16T21:23:55.330104Z"
    },
    "collapsed": false
   },
   "outputs": [
    {
     "name": "stdout",
     "output_type": "stream",
     "text": [
      "training on GPU\n"
     ]
    }
   ],
   "source": [
    "# перевірка доступності GPU\n",
    "if torch.cuda.is_available():\n",
    "    print('training on GPU')\n",
    "    device = torch.device(\"cuda:0\")\n",
    "else:\n",
    "    print('training on CPU')\n",
    "    device = torch.device(\"cpu\")"
   ]
  },
  {
   "cell_type": "code",
   "execution_count": 11,
   "metadata": {
    "ExecuteTime": {
     "end_time": "2023-04-16T21:23:57.584505Z",
     "start_time": "2023-04-16T21:23:57.405554Z"
    },
    "collapsed": false
   },
   "outputs": [],
   "source": [
    "# Навчання\n",
    "from tqdm.notebook import tqdm # для детекції виконання\n",
    "\n",
    "def train(model, optimizer, loss_fn, train_loader, val_loader, epochs,device):\n",
    "    writer = SummaryWriter(\"saves/logs\")\n",
    "    for epoch in tqdm(range(epochs)):\n",
    "        training_loss = 0.0\n",
    "        valid_loss = 0.0\n",
    "        model.train()\n",
    "        for batch in (train_loader):\n",
    "            optimizer.zero_grad()\n",
    "            inputs, targets = batch\n",
    "            inputs = inputs.to(device)\n",
    "            targets = targets.to(device)\n",
    "            output = model(inputs)\n",
    "            loss = loss_fn(output, targets)\n",
    "            loss.backward()\n",
    "            optimizer.step()\n",
    "            training_loss += loss.data.item() * inputs.size(0)\n",
    "        training_loss /= len(train_loader.dataset)\n",
    "\n",
    "        model.eval()\n",
    "        num_correct = 0\n",
    "        num_examples = 0\n",
    "        for batch in (val_loader):\n",
    "            inputs, targets = batch\n",
    "            inputs = inputs.to(device)\n",
    "            output = model(inputs)\n",
    "            targets = targets.to(device)\n",
    "            loss = loss_fn(output,targets)\n",
    "            valid_loss += loss.data.item() * inputs.size(0)\n",
    "            correct = torch.eq(torch.max(F.softmax(output, dim=1), dim=1)[1], targets).view(-1)\n",
    "            num_correct += torch.sum(correct).item()\n",
    "            num_examples += correct.shape[0]\n",
    "        valid_loss /= len(val_loader.dataset)\n",
    "\n",
    "        print('Epoch: {}, Training Loss: {:.4f}, Validation Loss: {:.4f}, accuracy = {:.4f}'.format(epoch, training_loss,valid_loss, num_correct / num_examples))\n",
    "\n",
    "        # збереження моделі\n",
    "        if(training_loss<0.005):\n",
    "            torch.save(model,\"saves/\"+str(epoch)+\".pth\")\n",
    "\n",
    "        # tensorBoard logs\n",
    "        writer.add_scalar('Loss', loss.item(), epoch)\n",
    "        writer.add_scalar('Train/Loss', training_loss, epoch)\n",
    "        writer.add_scalar('Test/Loss', valid_loss, epoch)\n",
    "        writer.add_scalar('Test/Accuracy',num_correct / num_examples, epoch)\n",
    "        writer.flush()"
   ]
  },
  {
   "cell_type": "code",
   "execution_count": 12,
   "metadata": {
    "ExecuteTime": {
     "end_time": "2023-04-16T21:24:01.416008Z",
     "start_time": "2023-04-16T21:24:01.403791Z"
    },
    "collapsed": false
   },
   "outputs": [],
   "source": [
    "# Тестування\n",
    "def test_model(model):\n",
    "    correct = 0\n",
    "    total = 0\n",
    "    with torch.no_grad():\n",
    "        for data in dataloaders['test']:\n",
    "            images, labels = data[0].to(device), data[1].to(device)\n",
    "            outputs = model(images)\n",
    "            _, predicted = torch.max(outputs.data, 1)\n",
    "            total += labels.size(0)\n",
    "            correct += (predicted == labels).sum().item()\n",
    "    print('correct: {:d}  total: {:d}'.format(correct, total))\n",
    "    print('accuracy = {:f}'.format(correct / total))"
   ]
  },
  {
   "cell_type": "code",
   "execution_count": 13,
   "metadata": {
    "ExecuteTime": {
     "end_time": "2023-04-16T21:24:04.105104Z",
     "start_time": "2023-04-16T21:24:04.088853Z"
    },
    "collapsed": false
   },
   "outputs": [],
   "source": [
    "# Передача моделі у GPU\n",
    "model=model.to(device)"
   ]
  },
  {
   "cell_type": "code",
   "execution_count": 14,
   "metadata": {
    "ExecuteTime": {
     "end_time": "2023-04-16T21:24:08.351590Z",
     "start_time": "2023-04-16T21:24:08.343590Z"
    },
    "collapsed": false
   },
   "outputs": [],
   "source": [
    "# вибір оптимізатора та функції втрат\n",
    "optimizer = optim.Adam(model.parameters(), lr=0.001)\n",
    "loss = torch.nn.CrossEntropyLoss()"
   ]
  },
  {
   "cell_type": "code",
   "execution_count": 15,
   "metadata": {
    "collapsed": false
   },
   "outputs": [
    {
     "data": {
      "application/vnd.jupyter.widget-view+json": {
       "model_id": "3b93a6f11d8c478b907acbee65b5ae3b",
       "version_major": 2,
       "version_minor": 0
      },
      "text/plain": [
       "  0%|          | 0/100 [00:00<?, ?it/s]"
      ]
     },
     "metadata": {},
     "output_type": "display_data"
    },
    {
     "name": "stdout",
     "output_type": "stream",
     "text": [
      "Epoch: 0, Training Loss: 0.6017, Validation Loss: 0.3250, accuracy = 0.9710\n",
      "Epoch: 1, Training Loss: 0.2110, Validation Loss: 0.0402, accuracy = 0.9855\n",
      "Epoch: 2, Training Loss: 0.0564, Validation Loss: 0.0254, accuracy = 0.9891\n",
      "Epoch: 3, Training Loss: 0.0464, Validation Loss: 0.0262, accuracy = 0.9928\n",
      "Epoch: 4, Training Loss: 0.0486, Validation Loss: 0.0253, accuracy = 0.9928\n",
      "Epoch: 5, Training Loss: 0.0612, Validation Loss: 0.0859, accuracy = 0.9638\n",
      "Epoch: 6, Training Loss: 0.0295, Validation Loss: 0.0254, accuracy = 0.9928\n",
      "Epoch: 7, Training Loss: 0.0552, Validation Loss: 0.0249, accuracy = 0.9855\n",
      "Epoch: 8, Training Loss: 0.0181, Validation Loss: 0.0333, accuracy = 0.9891\n",
      "Epoch: 9, Training Loss: 0.0387, Validation Loss: 0.0365, accuracy = 0.9928\n",
      "Epoch: 10, Training Loss: 0.0185, Validation Loss: 0.0356, accuracy = 0.9855\n",
      "Epoch: 11, Training Loss: 0.0207, Validation Loss: 0.0386, accuracy = 0.9928\n",
      "Epoch: 12, Training Loss: 0.0113, Validation Loss: 0.0234, accuracy = 0.9891\n",
      "Epoch: 13, Training Loss: 0.0175, Validation Loss: 0.0276, accuracy = 0.9928\n",
      "Epoch: 14, Training Loss: 0.0084, Validation Loss: 0.0384, accuracy = 0.9891\n",
      "Epoch: 15, Training Loss: 0.0152, Validation Loss: 0.0328, accuracy = 0.9855\n",
      "Epoch: 16, Training Loss: 0.0360, Validation Loss: 0.0432, accuracy = 0.9819\n",
      "Epoch: 17, Training Loss: 0.0615, Validation Loss: 0.0653, accuracy = 0.9746\n",
      "Epoch: 18, Training Loss: 0.0188, Validation Loss: 0.0295, accuracy = 0.9855\n",
      "Epoch: 19, Training Loss: 0.0257, Validation Loss: 0.0615, accuracy = 0.9783\n",
      "Epoch: 20, Training Loss: 0.0371, Validation Loss: 0.0234, accuracy = 0.9855\n",
      "Epoch: 21, Training Loss: 0.0287, Validation Loss: 0.0200, accuracy = 0.9928\n",
      "Epoch: 22, Training Loss: 0.0249, Validation Loss: 0.0276, accuracy = 0.9928\n",
      "Epoch: 23, Training Loss: 0.0235, Validation Loss: 0.0259, accuracy = 0.9819\n",
      "Epoch: 24, Training Loss: 0.0193, Validation Loss: 0.0313, accuracy = 0.9928\n",
      "Epoch: 25, Training Loss: 0.0105, Validation Loss: 0.0242, accuracy = 0.9928\n",
      "Epoch: 26, Training Loss: 0.0243, Validation Loss: 0.0331, accuracy = 0.9928\n",
      "Epoch: 27, Training Loss: 0.0237, Validation Loss: 0.0292, accuracy = 0.9855\n",
      "Epoch: 28, Training Loss: 0.0223, Validation Loss: 0.0324, accuracy = 0.9928\n",
      "Epoch: 29, Training Loss: 0.0107, Validation Loss: 0.0242, accuracy = 0.9928\n",
      "Epoch: 30, Training Loss: 0.0117, Validation Loss: 0.0388, accuracy = 0.9928\n",
      "Epoch: 31, Training Loss: 0.0051, Validation Loss: 0.0372, accuracy = 0.9928\n",
      "Epoch: 32, Training Loss: 0.0113, Validation Loss: 0.0197, accuracy = 0.9928\n",
      "Epoch: 33, Training Loss: 0.0101, Validation Loss: 0.0180, accuracy = 0.9928\n",
      "Epoch: 34, Training Loss: 0.0026, Validation Loss: 0.0176, accuracy = 0.9928\n",
      "Epoch: 35, Training Loss: 0.0053, Validation Loss: 0.0323, accuracy = 0.9891\n",
      "Epoch: 36, Training Loss: 0.0073, Validation Loss: 0.0203, accuracy = 0.9891\n",
      "Epoch: 37, Training Loss: 0.0131, Validation Loss: 0.0199, accuracy = 0.9891\n",
      "Epoch: 38, Training Loss: 0.0086, Validation Loss: 0.0193, accuracy = 0.9891\n",
      "Epoch: 39, Training Loss: 0.0511, Validation Loss: 0.0714, accuracy = 0.9819\n",
      "Epoch: 40, Training Loss: 0.0292, Validation Loss: 0.0328, accuracy = 0.9891\n",
      "Epoch: 41, Training Loss: 0.0167, Validation Loss: 0.0348, accuracy = 0.9891\n",
      "Epoch: 42, Training Loss: 0.0077, Validation Loss: 0.0209, accuracy = 0.9928\n",
      "Epoch: 43, Training Loss: 0.0166, Validation Loss: 0.0869, accuracy = 0.9819\n",
      "Epoch: 44, Training Loss: 0.0156, Validation Loss: 0.0200, accuracy = 0.9891\n",
      "Epoch: 45, Training Loss: 0.0155, Validation Loss: 0.0339, accuracy = 0.9891\n",
      "Epoch: 46, Training Loss: 0.0080, Validation Loss: 0.0189, accuracy = 0.9891\n",
      "Epoch: 47, Training Loss: 0.0051, Validation Loss: 0.0306, accuracy = 0.9928\n",
      "Epoch: 48, Training Loss: 0.0076, Validation Loss: 0.0183, accuracy = 0.9891\n",
      "Epoch: 49, Training Loss: 0.0035, Validation Loss: 0.0257, accuracy = 0.9928\n",
      "Epoch: 50, Training Loss: 0.0110, Validation Loss: 0.0269, accuracy = 0.9928\n",
      "Epoch: 51, Training Loss: 0.0089, Validation Loss: 0.0259, accuracy = 0.9891\n",
      "Epoch: 52, Training Loss: 0.0044, Validation Loss: 0.0150, accuracy = 0.9928\n",
      "Epoch: 53, Training Loss: 0.0076, Validation Loss: 0.0158, accuracy = 0.9891\n",
      "Epoch: 54, Training Loss: 0.0053, Validation Loss: 0.0228, accuracy = 0.9928\n",
      "Epoch: 55, Training Loss: 0.0224, Validation Loss: 0.0268, accuracy = 0.9891\n",
      "Epoch: 56, Training Loss: 0.0054, Validation Loss: 0.0124, accuracy = 0.9891\n",
      "Epoch: 57, Training Loss: 0.0057, Validation Loss: 0.0130, accuracy = 0.9964\n",
      "Epoch: 58, Training Loss: 0.0069, Validation Loss: 0.0216, accuracy = 0.9928\n",
      "Epoch: 59, Training Loss: 0.0063, Validation Loss: 0.0164, accuracy = 0.9891\n",
      "Epoch: 60, Training Loss: 0.0028, Validation Loss: 0.0299, accuracy = 0.9928\n",
      "Epoch: 61, Training Loss: 0.0042, Validation Loss: 0.0527, accuracy = 0.9891\n",
      "Epoch: 62, Training Loss: 0.0031, Validation Loss: 0.0384, accuracy = 0.9891\n",
      "Epoch: 63, Training Loss: 0.0144, Validation Loss: 0.0709, accuracy = 0.9891\n",
      "Epoch: 64, Training Loss: 0.0065, Validation Loss: 0.0230, accuracy = 0.9928\n",
      "Epoch: 65, Training Loss: 0.0059, Validation Loss: 0.0311, accuracy = 0.9855\n",
      "Epoch: 66, Training Loss: 0.0118, Validation Loss: 0.0470, accuracy = 0.9891\n",
      "Epoch: 67, Training Loss: 0.0061, Validation Loss: 0.0365, accuracy = 0.9891\n",
      "Epoch: 68, Training Loss: 0.0076, Validation Loss: 0.0412, accuracy = 0.9891\n",
      "Epoch: 69, Training Loss: 0.0036, Validation Loss: 0.0348, accuracy = 0.9891\n",
      "Epoch: 70, Training Loss: 0.0097, Validation Loss: 0.0455, accuracy = 0.9891\n",
      "Epoch: 71, Training Loss: 0.0148, Validation Loss: 0.0203, accuracy = 0.9891\n",
      "Epoch: 72, Training Loss: 0.0052, Validation Loss: 0.0386, accuracy = 0.9891\n",
      "Epoch: 73, Training Loss: 0.0057, Validation Loss: 0.0176, accuracy = 0.9928\n",
      "Epoch: 74, Training Loss: 0.0076, Validation Loss: 0.0448, accuracy = 0.9891\n",
      "Epoch: 75, Training Loss: 0.0234, Validation Loss: 0.0199, accuracy = 0.9855\n",
      "Epoch: 76, Training Loss: 0.0137, Validation Loss: 0.0235, accuracy = 0.9855\n",
      "Epoch: 77, Training Loss: 0.0054, Validation Loss: 0.0241, accuracy = 0.9891\n",
      "Epoch: 78, Training Loss: 0.0085, Validation Loss: 0.0318, accuracy = 0.9855\n",
      "Epoch: 79, Training Loss: 0.0111, Validation Loss: 0.0255, accuracy = 0.9891\n",
      "Epoch: 80, Training Loss: 0.0092, Validation Loss: 0.0539, accuracy = 0.9891\n",
      "Epoch: 81, Training Loss: 0.0073, Validation Loss: 0.0196, accuracy = 0.9891\n",
      "Epoch: 82, Training Loss: 0.0054, Validation Loss: 0.0316, accuracy = 0.9891\n",
      "Epoch: 83, Training Loss: 0.0037, Validation Loss: 0.0216, accuracy = 0.9928\n",
      "Epoch: 84, Training Loss: 0.0032, Validation Loss: 0.0229, accuracy = 0.9891\n",
      "Epoch: 85, Training Loss: 0.0186, Validation Loss: 0.0187, accuracy = 0.9928\n",
      "Epoch: 86, Training Loss: 0.0172, Validation Loss: 0.0358, accuracy = 0.9891\n",
      "Epoch: 87, Training Loss: 0.0069, Validation Loss: 0.0189, accuracy = 0.9928\n",
      "Epoch: 88, Training Loss: 0.0075, Validation Loss: 0.0264, accuracy = 0.9855\n",
      "Epoch: 89, Training Loss: 0.0091, Validation Loss: 0.0243, accuracy = 0.9928\n",
      "Epoch: 90, Training Loss: 0.0029, Validation Loss: 0.0288, accuracy = 0.9891\n",
      "Epoch: 91, Training Loss: 0.0097, Validation Loss: 0.0263, accuracy = 0.9928\n",
      "Epoch: 92, Training Loss: 0.0073, Validation Loss: 0.0228, accuracy = 0.9928\n",
      "Epoch: 93, Training Loss: 0.0017, Validation Loss: 0.0255, accuracy = 0.9855\n",
      "Epoch: 94, Training Loss: 0.0061, Validation Loss: 0.0215, accuracy = 0.9964\n",
      "Epoch: 95, Training Loss: 0.0034, Validation Loss: 0.0269, accuracy = 0.9891\n",
      "Epoch: 96, Training Loss: 0.0057, Validation Loss: 0.0178, accuracy = 0.9964\n",
      "Epoch: 97, Training Loss: 0.0071, Validation Loss: 0.0142, accuracy = 0.9928\n",
      "Epoch: 98, Training Loss: 0.0161, Validation Loss: 0.0163, accuracy = 0.9891\n",
      "Epoch: 99, Training Loss: 0.0076, Validation Loss: 0.0293, accuracy = 0.9891\n"
     ]
    }
   ],
   "source": [
    "# навчання моделі\n",
    "train(model, optimizer,loss,dataloaders['train'],dataloaders['test'],100,device)"
   ]
  },
  {
   "cell_type": "code",
   "execution_count": 16,
   "metadata": {
    "collapsed": false
   },
   "outputs": [
    {
     "name": "stdout",
     "output_type": "stream",
     "text": [
      "correct: 273  total: 276\n",
      "accuracy = 0.989130\n"
     ]
    }
   ],
   "source": [
    "# точність моделі\n",
    "test_model(model)"
   ]
  }
 ],
 "metadata": {
  "kernelspec": {
   "display_name": "Python 3",
   "language": "python",
   "name": "python3"
  },
  "language_info": {
   "codemirror_mode": {
    "name": "ipython",
    "version": 3
   },
   "file_extension": ".py",
   "mimetype": "text/x-python",
   "name": "python",
   "nbconvert_exporter": "python",
   "pygments_lexer": "ipython3",
   "version": "3.10.8"
  }
 },
 "nbformat": 4,
 "nbformat_minor": 0
}
