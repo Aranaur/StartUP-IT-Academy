{
 "cells": [
  {
   "cell_type": "markdown",
   "metadata": {
    "collapsed": false
   },
   "source": [
    "# Завдання\n",
    "\n",
    "Створіть модель згорткової нейронної мережі (CNN) із трьома шарами. Підключіть `Tensorboard`, та відобразіть в ньому зміну розподілу ваг моделі, обчислювальний граф моделі та зміну її метрик.\n",
    "\n",
    "## Рішення"
   ]
  },
  {
   "cell_type": "code",
   "execution_count": 11,
   "metadata": {
    "ExecuteTime": {
     "end_time": "2023-04-19T18:51:31.500525Z",
     "start_time": "2023-04-19T18:51:23.348615Z"
    },
    "collapsed": false
   },
   "outputs": [],
   "source": [
    "import torch\n",
    "import torch.nn as nn\n",
    "import torch.optim as opt\n",
    "torch.set_printoptions(linewidth=120)\n",
    "import torch.nn.functional as F\n",
    "import torchvision\n",
    "import torchvision.transforms as transforms\n",
    "from torch.utils.tensorboard import SummaryWriter"
   ]
  },
  {
   "cell_type": "code",
   "execution_count": 12,
   "metadata": {
    "ExecuteTime": {
     "end_time": "2023-04-19T18:51:33.651206Z",
     "start_time": "2023-04-19T18:51:33.630607Z"
    },
    "collapsed": false
   },
   "outputs": [],
   "source": [
    "class CNN(nn.Module):\n",
    "    def __init__(self):\n",
    "        super().__init__()\n",
    "        self.conv1 = nn.Conv2d(in_channels=1, out_channels=6, kernel_size=5)\n",
    "        self.conv2 = nn.Conv2d(in_channels=6, out_channels=12, kernel_size=5)\n",
    "\n",
    "        self.fc1 = nn.Linear(in_features=12*4*4, out_features=120)\n",
    "        self.fc2 = nn.Linear(in_features=120, out_features=60)\n",
    "        self.fc3 = nn.Linear(in_features=60, out_features=30)\n",
    "        self.out = nn.Linear(in_features=30, out_features=10)\n",
    "\n",
    "    def forward(self, x):\n",
    "        x = F.relu(self.conv1(x))\n",
    "        x = F.max_pool2d(x, kernel_size = 2, stride = 2)\n",
    "        x = F.relu(self.conv2(x))\n",
    "        x = F.max_pool2d(x, kernel_size = 2, stride = 2)\n",
    "        x = torch.flatten(x,start_dim = 1)\n",
    "        x = F.relu(self.fc1(x))\n",
    "        x = F.relu(self.fc2(x))\n",
    "        x = F.relu(self.fc3(x))\n",
    "        x = self.out(x)\n",
    "\n",
    "        return x"
   ]
  },
  {
   "cell_type": "code",
   "execution_count": 13,
   "metadata": {
    "ExecuteTime": {
     "end_time": "2023-04-19T18:52:00.486031Z",
     "start_time": "2023-04-19T18:51:52.818238Z"
    },
    "collapsed": false
   },
   "outputs": [],
   "source": [
    "train_set = torchvision.datasets.FashionMNIST(root=\"./data\",\n",
    "                                              train = True,\n",
    "                                              download=True,\n",
    "                                              transform=transforms.ToTensor())\n",
    "\n",
    "train_loader = torch.utils.data.DataLoader(train_set,\n",
    "                                           batch_size = 100,\n",
    "                                           shuffle = True)"
   ]
  },
  {
   "cell_type": "code",
   "execution_count": 14,
   "metadata": {
    "ExecuteTime": {
     "end_time": "2023-04-19T18:52:32.963858Z",
     "start_time": "2023-04-19T18:52:32.534866Z"
    },
    "collapsed": false
   },
   "outputs": [],
   "source": [
    "tb = SummaryWriter()\n",
    "model = CNN()\n",
    "images, labels = next(iter(train_loader))\n",
    "grid = torchvision.utils.make_grid(images)\n",
    "tb.add_image(\"images\", grid)\n",
    "tb.add_graph(model, images)\n",
    "tb.close()"
   ]
  },
  {
   "cell_type": "code",
   "execution_count": 15,
   "metadata": {
    "ExecuteTime": {
     "end_time": "2023-04-19T18:54:52.626646Z",
     "start_time": "2023-04-19T18:52:37.885875Z"
    },
    "collapsed": false
   },
   "outputs": [
    {
     "name": "stdout",
     "output_type": "stream",
     "text": [
      "epoch: 0 total_correct: 44265 loss: 406.95893624424934\n",
      "epoch: 1 total_correct: 50248 loss: 265.463192358613\n",
      "epoch: 2 total_correct: 51150 loss: 237.86720491945744\n",
      "epoch: 3 total_correct: 51652 loss: 226.7817608267069\n",
      "epoch: 4 total_correct: 51837 loss: 218.85810896754265\n",
      "epoch: 5 total_correct: 52262 loss: 211.04090775549412\n",
      "epoch: 6 total_correct: 52435 loss: 206.4378041625023\n",
      "epoch: 7 total_correct: 52457 loss: 206.2564074844122\n",
      "epoch: 8 total_correct: 52666 loss: 202.52469559013844\n",
      "epoch: 9 total_correct: 52638 loss: 202.23483940958977\n"
     ]
    }
   ],
   "source": [
    "model = CNN()\n",
    "train_loader = torch.utils.data.DataLoader(train_set,batch_size = 100, shuffle = True)\n",
    "optimizer = opt.Adam(model.parameters(), lr= 0.01)\n",
    "criterion = torch.nn.CrossEntropyLoss()\n",
    "\n",
    "tb = SummaryWriter()\n",
    "\n",
    "def get_num_correct(preds, labels):\n",
    "    return preds.argmax(dim=1).eq(labels).sum().item()\n",
    "\n",
    "for epoch in range(10):\n",
    "\n",
    "    total_loss = 0\n",
    "    total_correct = 0\n",
    "\n",
    "    for images, labels in train_loader:\n",
    "        images, labels = images, labels\n",
    "        preds = model(images)\n",
    "\n",
    "        loss = criterion(preds, labels)\n",
    "        total_loss+= loss.item()\n",
    "        total_correct+= get_num_correct(preds, labels)\n",
    "\n",
    "        optimizer.zero_grad()\n",
    "        loss.backward()\n",
    "        optimizer.step()\n",
    "\n",
    "    tb.add_scalar(\"Loss\", total_loss, epoch)\n",
    "    tb.add_scalar(\"Correct\", total_correct, epoch)\n",
    "    tb.add_scalar(\"Accuracy\", total_correct/ len(train_set), epoch)\n",
    "\n",
    "    tb.add_histogram(\"conv1.bias\", model.conv1.bias, epoch)\n",
    "    tb.add_histogram(\"conv1.weight\", model.conv1.weight, epoch)\n",
    "    tb.add_histogram(\"conv2.bias\", model.conv2.bias, epoch)\n",
    "    tb.add_histogram(\"conv2.weight\", model.conv2.weight, epoch)\n",
    "    tb.add_histogram(\"fc1.bias\", model.fc1.bias, epoch)\n",
    "    tb.add_histogram(\"fc1.weight\", model.fc1.weight, epoch)\n",
    "    tb.add_histogram(\"fc2.bias\", model.fc2.bias, epoch)\n",
    "    tb.add_histogram(\"fc2.weight\", model.fc2.weight, epoch)\n",
    "    tb.add_histogram(\"fc3.bias\", model.fc3.bias, epoch)\n",
    "    tb.add_histogram(\"fc3.weight\", model.fc3.weight, epoch)\n",
    "\n",
    "    print(\"epoch:\", epoch, \"total_correct:\", total_correct, \"loss:\",total_loss)\n",
    "\n",
    "tb.close()"
   ]
  },
  {
   "cell_type": "code",
   "execution_count": null,
   "metadata": {
    "ExecuteTime": {
     "end_time": "2023-04-19T18:57:46.875247Z",
     "start_time": "2023-04-19T18:55:35.511985Z"
    },
    "collapsed": false
   },
   "outputs": [],
   "source": [
    "%tensorboard --logdir runs"
   ]
  },
  {
   "cell_type": "markdown",
   "source": [
    "![](01.png)\n",
    "![](02.png)\n",
    "![](03.png)\n",
    "![](04.png)\n",
    "![](05.png)\n",
    "![](06.png)\n"
   ],
   "metadata": {
    "collapsed": false
   }
  }
 ],
 "metadata": {
  "kernelspec": {
   "display_name": "Python 3",
   "language": "python",
   "name": "python3"
  },
  "language_info": {
   "codemirror_mode": {
    "name": "ipython",
    "version": 3
   },
   "file_extension": ".py",
   "mimetype": "text/x-python",
   "name": "python",
   "nbconvert_exporter": "python",
   "pygments_lexer": "ipython3",
   "version": "3.10.8"
  }
 },
 "nbformat": 4,
 "nbformat_minor": 0
}
