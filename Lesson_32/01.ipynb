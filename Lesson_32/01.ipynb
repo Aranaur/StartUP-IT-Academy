{
 "cells": [
  {
   "cell_type": "markdown",
   "source": [
    "# Завдання:\n",
    "1. Створіть датафрейм розміром 15*5, що містить наступні дані:\n",
    "    а) ім'я та прізвище студента;\n",
    "    б) середній бал\n",
    "    в) оцінка за поточний екзамен\n",
    "    г) кількість спроб здачі поточного екзамену\n",
    "\n",
    "2. Додайте до датафрейму стовпчик, що містить дані про допуск студента на наступний курс.\n",
    "\n",
    "3. Виведіть мінімальний, максимальний, середній та медіанний показники середнього балу студентів.\n",
    "4. Виведіть кількість студентів, що склали поточний екзамен з першого разу.\n",
    "5. Збережіть будь-які дані з датафрейму у вигляді серії."
   ],
   "metadata": {
    "collapsed": false
   }
  },
  {
   "cell_type": "code",
   "execution_count": 130,
   "outputs": [],
   "source": [
    "import pandas as pd\n",
    "import names\n",
    "import numpy as np\n",
    "\n",
    "np.random.seed(2023)"
   ],
   "metadata": {
    "collapsed": false
   }
  },
  {
   "cell_type": "markdown",
   "source": [
    "## Рішення:\n",
    "1. Створіть датафрейм розміром 15*5:"
   ],
   "metadata": {
    "collapsed": false
   }
  },
  {
   "cell_type": "code",
   "execution_count": 131,
   "outputs": [
    {
     "data": {
      "text/plain": "                name        GPA      grade  exam_attempts\n0         Tommy Diaz  75.693388  75.825806              1\n1      Denise Sawyer  67.404120  76.617939              2\n2       David Thomas  61.985035  79.206047              3\n3     Michelle Grant  71.890006  68.957936              1\n4     James Billings  69.182721  82.415223              1\n5       John Mcgrath  60.869659  71.731205              3\n6   Shirley Martinez  91.235258  67.982580              1\n7      Johnny Bickel  81.524842  68.963253              3\n8       Howard Horst  70.791218  78.364361              3\n9     Leslie Bellamy  45.027743  85.137000              2\n10     Robin Spencer  61.387827  78.550596              2\n11   James Benavidez  67.394544  86.173993              1\n12       Joan Barker  61.716017  85.932188              1\n13      Mary Mallard  66.589437  90.598102              2\n14        Marya Doty  61.765109  83.514294              2",
      "text/html": "<div>\n<style scoped>\n    .dataframe tbody tr th:only-of-type {\n        vertical-align: middle;\n    }\n\n    .dataframe tbody tr th {\n        vertical-align: top;\n    }\n\n    .dataframe thead th {\n        text-align: right;\n    }\n</style>\n<table border=\"1\" class=\"dataframe\">\n  <thead>\n    <tr style=\"text-align: right;\">\n      <th></th>\n      <th>name</th>\n      <th>GPA</th>\n      <th>grade</th>\n      <th>exam_attempts</th>\n    </tr>\n  </thead>\n  <tbody>\n    <tr>\n      <th>0</th>\n      <td>Tommy Diaz</td>\n      <td>75.693388</td>\n      <td>75.825806</td>\n      <td>1</td>\n    </tr>\n    <tr>\n      <th>1</th>\n      <td>Denise Sawyer</td>\n      <td>67.404120</td>\n      <td>76.617939</td>\n      <td>2</td>\n    </tr>\n    <tr>\n      <th>2</th>\n      <td>David Thomas</td>\n      <td>61.985035</td>\n      <td>79.206047</td>\n      <td>3</td>\n    </tr>\n    <tr>\n      <th>3</th>\n      <td>Michelle Grant</td>\n      <td>71.890006</td>\n      <td>68.957936</td>\n      <td>1</td>\n    </tr>\n    <tr>\n      <th>4</th>\n      <td>James Billings</td>\n      <td>69.182721</td>\n      <td>82.415223</td>\n      <td>1</td>\n    </tr>\n    <tr>\n      <th>5</th>\n      <td>John Mcgrath</td>\n      <td>60.869659</td>\n      <td>71.731205</td>\n      <td>3</td>\n    </tr>\n    <tr>\n      <th>6</th>\n      <td>Shirley Martinez</td>\n      <td>91.235258</td>\n      <td>67.982580</td>\n      <td>1</td>\n    </tr>\n    <tr>\n      <th>7</th>\n      <td>Johnny Bickel</td>\n      <td>81.524842</td>\n      <td>68.963253</td>\n      <td>3</td>\n    </tr>\n    <tr>\n      <th>8</th>\n      <td>Howard Horst</td>\n      <td>70.791218</td>\n      <td>78.364361</td>\n      <td>3</td>\n    </tr>\n    <tr>\n      <th>9</th>\n      <td>Leslie Bellamy</td>\n      <td>45.027743</td>\n      <td>85.137000</td>\n      <td>2</td>\n    </tr>\n    <tr>\n      <th>10</th>\n      <td>Robin Spencer</td>\n      <td>61.387827</td>\n      <td>78.550596</td>\n      <td>2</td>\n    </tr>\n    <tr>\n      <th>11</th>\n      <td>James Benavidez</td>\n      <td>67.394544</td>\n      <td>86.173993</td>\n      <td>1</td>\n    </tr>\n    <tr>\n      <th>12</th>\n      <td>Joan Barker</td>\n      <td>61.716017</td>\n      <td>85.932188</td>\n      <td>1</td>\n    </tr>\n    <tr>\n      <th>13</th>\n      <td>Mary Mallard</td>\n      <td>66.589437</td>\n      <td>90.598102</td>\n      <td>2</td>\n    </tr>\n    <tr>\n      <th>14</th>\n      <td>Marya Doty</td>\n      <td>61.765109</td>\n      <td>83.514294</td>\n      <td>2</td>\n    </tr>\n  </tbody>\n</table>\n</div>"
     },
     "execution_count": 131,
     "metadata": {},
     "output_type": "execute_result"
    }
   ],
   "source": [
    "students = {\n",
    "    'name': [names.get_full_name() for _ in range(15)],\n",
    "    'GPA': np.random.normal(70, 8, size=15),\n",
    "    'grade': np.random.normal(80, 8, size=15),\n",
    "    'exam_attempts': np.random.randint(1, 4, size=15)\n",
    "}\n",
    "\n",
    "students_df = pd.DataFrame.from_dict(students)\n",
    "students_df"
   ],
   "metadata": {
    "collapsed": false
   }
  },
  {
   "cell_type": "markdown",
   "source": [
    "2. Додайте до датафрейму стовпчик, що містить дані про допуск студента на наступний курс:"
   ],
   "metadata": {
    "collapsed": false
   }
  },
  {
   "cell_type": "code",
   "execution_count": 132,
   "outputs": [
    {
     "data": {
      "text/plain": "                name        GPA      grade  exam_attempts  admission\n0         Tommy Diaz  75.693388  75.825806              1       True\n1      Denise Sawyer  67.404120  76.617939              2       True\n2       David Thomas  61.985035  79.206047              3       True\n3     Michelle Grant  71.890006  68.957936              1       True\n4     James Billings  69.182721  82.415223              1       True\n5       John Mcgrath  60.869659  71.731205              3       True\n6   Shirley Martinez  91.235258  67.982580              1      False\n7      Johnny Bickel  81.524842  68.963253              3       True\n8       Howard Horst  70.791218  78.364361              3      False\n9     Leslie Bellamy  45.027743  85.137000              2      False\n10     Robin Spencer  61.387827  78.550596              2       True\n11   James Benavidez  67.394544  86.173993              1       True\n12       Joan Barker  61.716017  85.932188              1      False\n13      Mary Mallard  66.589437  90.598102              2       True\n14        Marya Doty  61.765109  83.514294              2      False",
      "text/html": "<div>\n<style scoped>\n    .dataframe tbody tr th:only-of-type {\n        vertical-align: middle;\n    }\n\n    .dataframe tbody tr th {\n        vertical-align: top;\n    }\n\n    .dataframe thead th {\n        text-align: right;\n    }\n</style>\n<table border=\"1\" class=\"dataframe\">\n  <thead>\n    <tr style=\"text-align: right;\">\n      <th></th>\n      <th>name</th>\n      <th>GPA</th>\n      <th>grade</th>\n      <th>exam_attempts</th>\n      <th>admission</th>\n    </tr>\n  </thead>\n  <tbody>\n    <tr>\n      <th>0</th>\n      <td>Tommy Diaz</td>\n      <td>75.693388</td>\n      <td>75.825806</td>\n      <td>1</td>\n      <td>True</td>\n    </tr>\n    <tr>\n      <th>1</th>\n      <td>Denise Sawyer</td>\n      <td>67.404120</td>\n      <td>76.617939</td>\n      <td>2</td>\n      <td>True</td>\n    </tr>\n    <tr>\n      <th>2</th>\n      <td>David Thomas</td>\n      <td>61.985035</td>\n      <td>79.206047</td>\n      <td>3</td>\n      <td>True</td>\n    </tr>\n    <tr>\n      <th>3</th>\n      <td>Michelle Grant</td>\n      <td>71.890006</td>\n      <td>68.957936</td>\n      <td>1</td>\n      <td>True</td>\n    </tr>\n    <tr>\n      <th>4</th>\n      <td>James Billings</td>\n      <td>69.182721</td>\n      <td>82.415223</td>\n      <td>1</td>\n      <td>True</td>\n    </tr>\n    <tr>\n      <th>5</th>\n      <td>John Mcgrath</td>\n      <td>60.869659</td>\n      <td>71.731205</td>\n      <td>3</td>\n      <td>True</td>\n    </tr>\n    <tr>\n      <th>6</th>\n      <td>Shirley Martinez</td>\n      <td>91.235258</td>\n      <td>67.982580</td>\n      <td>1</td>\n      <td>False</td>\n    </tr>\n    <tr>\n      <th>7</th>\n      <td>Johnny Bickel</td>\n      <td>81.524842</td>\n      <td>68.963253</td>\n      <td>3</td>\n      <td>True</td>\n    </tr>\n    <tr>\n      <th>8</th>\n      <td>Howard Horst</td>\n      <td>70.791218</td>\n      <td>78.364361</td>\n      <td>3</td>\n      <td>False</td>\n    </tr>\n    <tr>\n      <th>9</th>\n      <td>Leslie Bellamy</td>\n      <td>45.027743</td>\n      <td>85.137000</td>\n      <td>2</td>\n      <td>False</td>\n    </tr>\n    <tr>\n      <th>10</th>\n      <td>Robin Spencer</td>\n      <td>61.387827</td>\n      <td>78.550596</td>\n      <td>2</td>\n      <td>True</td>\n    </tr>\n    <tr>\n      <th>11</th>\n      <td>James Benavidez</td>\n      <td>67.394544</td>\n      <td>86.173993</td>\n      <td>1</td>\n      <td>True</td>\n    </tr>\n    <tr>\n      <th>12</th>\n      <td>Joan Barker</td>\n      <td>61.716017</td>\n      <td>85.932188</td>\n      <td>1</td>\n      <td>False</td>\n    </tr>\n    <tr>\n      <th>13</th>\n      <td>Mary Mallard</td>\n      <td>66.589437</td>\n      <td>90.598102</td>\n      <td>2</td>\n      <td>True</td>\n    </tr>\n    <tr>\n      <th>14</th>\n      <td>Marya Doty</td>\n      <td>61.765109</td>\n      <td>83.514294</td>\n      <td>2</td>\n      <td>False</td>\n    </tr>\n  </tbody>\n</table>\n</div>"
     },
     "execution_count": 132,
     "metadata": {},
     "output_type": "execute_result"
    }
   ],
   "source": [
    "students_df['admission'] = np.random.choice(a=[True, False], size=(15, 1), p=[0.7, 0.3])\n",
    "students_df"
   ],
   "metadata": {
    "collapsed": false
   }
  },
  {
   "cell_type": "markdown",
   "source": [
    "3. Виведіть мінімальний, максимальний, середній та медіанний показники середнього балу студентів:"
   ],
   "metadata": {
    "collapsed": false
   }
  },
  {
   "cell_type": "code",
   "execution_count": 133,
   "outputs": [
    {
     "data": {
      "text/plain": "min       45.027743\nmax       91.235258\nmean      67.630462\nmedian    67.394544\nName: GPA, dtype: float64"
     },
     "execution_count": 133,
     "metadata": {},
     "output_type": "execute_result"
    }
   ],
   "source": [
    "students_df['GPA'].agg(['min', 'max', 'mean', 'median'])"
   ],
   "metadata": {
    "collapsed": false
   }
  },
  {
   "cell_type": "markdown",
   "source": [
    "4. Виведіть кількість студентів, що склали поточний екзамен з першого разу:"
   ],
   "metadata": {
    "collapsed": false
   }
  },
  {
   "cell_type": "code",
   "execution_count": 134,
   "outputs": [
    {
     "data": {
      "text/plain": "6"
     },
     "execution_count": 134,
     "metadata": {},
     "output_type": "execute_result"
    }
   ],
   "source": [
    "len(students_df[students_df['exam_attempts'] == 1])"
   ],
   "metadata": {
    "collapsed": false
   }
  },
  {
   "cell_type": "markdown",
   "source": [
    "5. Збережіть будь-які дані з датафрейму у вигляді серії."
   ],
   "metadata": {
    "collapsed": false
   }
  },
  {
   "cell_type": "code",
   "execution_count": 135,
   "outputs": [
    {
     "name": "stdout",
     "output_type": "stream",
     "text": [
      "0           Tommy Diaz\n",
      "1        Denise Sawyer\n",
      "2         David Thomas\n",
      "3       Michelle Grant\n",
      "4       James Billings\n",
      "5         John Mcgrath\n",
      "6     Shirley Martinez\n",
      "7        Johnny Bickel\n",
      "8         Howard Horst\n",
      "9       Leslie Bellamy\n",
      "10       Robin Spencer\n",
      "11     James Benavidez\n",
      "12         Joan Barker\n",
      "13        Mary Mallard\n",
      "14          Marya Doty\n",
      "Name: name, dtype: object\n",
      "<class 'pandas.core.series.Series'>\n"
     ]
    }
   ],
   "source": [
    "name_series = students_df['name'].squeeze()\n",
    "print(name_series)\n",
    "print(type(name_series))"
   ],
   "metadata": {
    "collapsed": false
   }
  }
 ],
 "metadata": {
  "kernelspec": {
   "display_name": "Python 3",
   "language": "python",
   "name": "python3"
  },
  "language_info": {
   "codemirror_mode": {
    "name": "ipython",
    "version": 2
   },
   "file_extension": ".py",
   "mimetype": "text/x-python",
   "name": "python",
   "nbconvert_exporter": "python",
   "pygments_lexer": "ipython2",
   "version": "2.7.6"
  }
 },
 "nbformat": 4,
 "nbformat_minor": 0
}
