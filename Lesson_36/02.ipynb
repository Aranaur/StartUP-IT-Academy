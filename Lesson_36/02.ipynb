{
 "cells": [
  {
   "cell_type": "markdown",
   "source": [
    "# Завдання 2\n",
    "Проведіть крос-валідацію для моделі, побудованої на основі датафрейму `petrol_consumption.csv` з попереднього завдання. Обґрунтуйте обраний метод крос-валідації\n",
    "\n",
    "## Рішення"
   ],
   "metadata": {
    "collapsed": false
   }
  },
  {
   "cell_type": "code",
   "execution_count": 5,
   "outputs": [
    {
     "name": "stdout",
     "output_type": "stream",
     "text": [
      "Середня абсолютна помилка: 56.61\n"
     ]
    }
   ],
   "source": [
    "import pandas as pd\n",
    "from sklearn.linear_model import LinearRegression\n",
    "from sklearn.model_selection import cross_val_score, KFold\n",
    "\n",
    "data = pd.read_csv('https://raw.githubusercontent.com/Aranaur/StartUP-IT-Academy/master/Lesson_35/petrol_consumption.csv')\n",
    "\n",
    "X = data.drop('Petrol_Consumption', axis=1)\n",
    "y = data['Petrol_Consumption']\n",
    "\n",
    "# Створюємо об'єкт для лінійної регресії\n",
    "model = LinearRegression()\n",
    "\n",
    "# Створюємо об'єкт для крос-валідації\n",
    "cv = KFold(n_splits=5, shuffle=True, random_state=2023)\n",
    "\n",
    "scores = cross_val_score(model, X, y, cv=cv, scoring='neg_mean_absolute_error')\n",
    "\n",
    "print(f\"Середня абсолютна помилка: {abs(scores.mean()):.2f}\")"
   ],
   "metadata": {
    "collapsed": false
   }
  },
  {
   "cell_type": "markdown",
   "source": [
    "Знову ж таки, наші дані не містять пропущених значень та вони достатньо малі, отже метод крос-валідації є ефективним та зрозумілим для оцінювання ефективності моделі."
   ],
   "metadata": {
    "collapsed": false
   }
  }
 ],
 "metadata": {
  "kernelspec": {
   "display_name": "Python 3",
   "language": "python",
   "name": "python3"
  },
  "language_info": {
   "codemirror_mode": {
    "name": "ipython",
    "version": 2
   },
   "file_extension": ".py",
   "mimetype": "text/x-python",
   "name": "python",
   "nbconvert_exporter": "python",
   "pygments_lexer": "ipython2",
   "version": "2.7.6"
  }
 },
 "nbformat": 4,
 "nbformat_minor": 0
}
