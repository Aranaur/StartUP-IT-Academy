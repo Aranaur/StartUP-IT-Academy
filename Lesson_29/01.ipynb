{
 "cells": [
  {
   "cell_type": "markdown",
   "source": [
    "# Завдання 1\n",
    "Протягом 50 років вимірювався рівень води навесні під час повені відносно умовного нуля. Результати вимірювання наведено у вигляді інтервального статистичного розподілу:\n",
    "\n",
    "| **x_i** | 0-24 | 24-48 | 48-72 | 72-96 | 96-120 | 120-144 | 144-168 | 168-192 | 192-216 |\n",
    "|:-------:|:----:|:-----:|:-----:|:-----:|:------:|:-------:|:-------:|:-------:|:-------:|\n",
    "| **n_i** |   1  |   2   |   4   |   6   |   12   |    16   |    6    |    2    |    1    |\n",
    "\n",
    "За заданими статистичними розподілами вибірки висунути $H_0$ про закон розподілу ознаки генеральної сукупності і при рівні значущості $\\alpha = 0.01$ перевірити її правильність.\n",
    "\n",
    "## Рішення\n",
    "1. Розрахуємо статистики:"
   ],
   "metadata": {
    "collapsed": false
   }
  },
  {
   "cell_type": "code",
   "execution_count": 224,
   "outputs": [
    {
     "name": "stdout",
     "output_type": "stream",
     "text": [
      "Середнє значення = 114.72\n",
      "Дисперсія = 1482.08\n",
      "Стандартне відхилення = 38.5\n"
     ]
    }
   ],
   "source": [
    "import numpy as np\n",
    "\n",
    "x_i = [[0, 24], [24, 48], [48, 72], [72, 96], [96, 120], [120, 144], [144, 168], [168, 192], [192, 216]]\n",
    "x = np.array([(item[1] + item[0])/2 for item in x_i])\n",
    "n = np.array([1, 2, 4, 6, 12, 16, 6, 2, 1])\n",
    "\n",
    "mean_x = sum(x * n / sum(n))\n",
    "var_x = sum(n*(x - mean_x)**2/(sum(n)-1))\n",
    "sd_x = var_x ** (1/2)\n",
    "\n",
    "print(f'Середнє значення = {mean_x}\\n'\n",
    "      f'Дисперсія = {round(var_x, 2)}\\n'\n",
    "      f'Стандартне відхилення = {round(sd_x, 2)}')"
   ],
   "metadata": {
    "collapsed": false
   }
  },
  {
   "cell_type": "markdown",
   "source": [
    "2. Побудуємо гістограму:"
   ],
   "metadata": {
    "collapsed": false
   }
  },
  {
   "cell_type": "code",
   "execution_count": 225,
   "outputs": [
    {
     "data": {
      "text/plain": "<Figure size 640x480 with 1 Axes>",
      "image/png": "[encoded data removed]"
     },
     "metadata": {},
     "output_type": "display_data"
    },
    {
     "name": "stdout",
     "output_type": "stream",
     "text": [
      "Можна висунути гіпотезу про нормальність розподілу вибірки.\n"
     ]
    }
   ],
   "source": [
    "import matplotlib.pyplot as plt\n",
    "\n",
    "plt.bar(x, n, width=24, edgecolor='gray')\n",
    "plt.xticks(x+12)\n",
    "plt.show()\n",
    "\n",
    "print('Можна висунути гіпотезу про нормальність розподілу вибірки.')"
   ],
   "metadata": {
    "collapsed": false
   }
  },
  {
   "cell_type": "markdown",
   "source": [
    "3. Перевіримо гіпотезу за критерієм узгодженості Пірсона:"
   ],
   "metadata": {
    "collapsed": false
   }
  },
  {
   "cell_type": "code",
   "execution_count": 226,
   "outputs": [
    {
     "data": {
      "text/plain": "   x_lower  x_upper   n   Z_lower   Z_upper   F_lower   F_upper         P  \\\n0        0       24   1      -inf -2.356496 -0.500000 -0.490776  0.009224   \n1       24       48   2 -2.356496 -1.733084 -0.490776 -0.458460  0.032316   \n2       48       72   4 -1.733084 -1.109673 -0.458460 -0.366430  0.092030   \n3       72       96   6 -1.109673 -0.486261 -0.366430 -0.186609  0.179821   \n4       96      120  12 -0.486261  0.137151 -0.186609  0.054544  0.241153   \n5      120      144  16  0.137151  0.760562  0.054544  0.276541  0.221997   \n6      144      168   6  0.760562  1.383974  0.276541  0.416817  0.140276   \n7      168      192   2  1.383974  2.007386  0.416817  0.477646  0.060829   \n8      192      216   1  2.007386       inf  0.477646  0.500000  0.022354   \n\n           N         K  \n0   0.461206  0.629433  \n1   1.615810  0.091349  \n2   4.601485  0.078623  \n3   8.991050  0.995032  \n4  12.057654  0.000276  \n5  11.099830  2.163246  \n6   7.013803  0.146539  \n7   3.041445  0.356610  \n8   1.117715  0.012398  ",
      "text/html": "<div>\n<style scoped>\n    .dataframe tbody tr th:only-of-type {\n        vertical-align: middle;\n    }\n\n    .dataframe tbody tr th {\n        vertical-align: top;\n    }\n\n    .dataframe thead th {\n        text-align: right;\n    }\n</style>\n<table border=\"1\" class=\"dataframe\">\n  <thead>\n    <tr style=\"text-align: right;\">\n      <th></th>\n      <th>x_lower</th>\n      <th>x_upper</th>\n      <th>n</th>\n      <th>Z_lower</th>\n      <th>Z_upper</th>\n      <th>F_lower</th>\n      <th>F_upper</th>\n      <th>P</th>\n      <th>N</th>\n      <th>K</th>\n    </tr>\n  </thead>\n  <tbody>\n    <tr>\n      <th>0</th>\n      <td>0</td>\n      <td>24</td>\n      <td>1</td>\n      <td>-inf</td>\n      <td>-2.356496</td>\n      <td>-0.500000</td>\n      <td>-0.490776</td>\n      <td>0.009224</td>\n      <td>0.461206</td>\n      <td>0.629433</td>\n    </tr>\n    <tr>\n      <th>1</th>\n      <td>24</td>\n      <td>48</td>\n      <td>2</td>\n      <td>-2.356496</td>\n      <td>-1.733084</td>\n      <td>-0.490776</td>\n      <td>-0.458460</td>\n      <td>0.032316</td>\n      <td>1.615810</td>\n      <td>0.091349</td>\n    </tr>\n    <tr>\n      <th>2</th>\n      <td>48</td>\n      <td>72</td>\n      <td>4</td>\n      <td>-1.733084</td>\n      <td>-1.109673</td>\n      <td>-0.458460</td>\n      <td>-0.366430</td>\n      <td>0.092030</td>\n      <td>4.601485</td>\n      <td>0.078623</td>\n    </tr>\n    <tr>\n      <th>3</th>\n      <td>72</td>\n      <td>96</td>\n      <td>6</td>\n      <td>-1.109673</td>\n      <td>-0.486261</td>\n      <td>-0.366430</td>\n      <td>-0.186609</td>\n      <td>0.179821</td>\n      <td>8.991050</td>\n      <td>0.995032</td>\n    </tr>\n    <tr>\n      <th>4</th>\n      <td>96</td>\n      <td>120</td>\n      <td>12</td>\n      <td>-0.486261</td>\n      <td>0.137151</td>\n      <td>-0.186609</td>\n      <td>0.054544</td>\n      <td>0.241153</td>\n      <td>12.057654</td>\n      <td>0.000276</td>\n    </tr>\n    <tr>\n      <th>5</th>\n      <td>120</td>\n      <td>144</td>\n      <td>16</td>\n      <td>0.137151</td>\n      <td>0.760562</td>\n      <td>0.054544</td>\n      <td>0.276541</td>\n      <td>0.221997</td>\n      <td>11.099830</td>\n      <td>2.163246</td>\n    </tr>\n    <tr>\n      <th>6</th>\n      <td>144</td>\n      <td>168</td>\n      <td>6</td>\n      <td>0.760562</td>\n      <td>1.383974</td>\n      <td>0.276541</td>\n      <td>0.416817</td>\n      <td>0.140276</td>\n      <td>7.013803</td>\n      <td>0.146539</td>\n    </tr>\n    <tr>\n      <th>7</th>\n      <td>168</td>\n      <td>192</td>\n      <td>2</td>\n      <td>1.383974</td>\n      <td>2.007386</td>\n      <td>0.416817</td>\n      <td>0.477646</td>\n      <td>0.060829</td>\n      <td>3.041445</td>\n      <td>0.356610</td>\n    </tr>\n    <tr>\n      <th>8</th>\n      <td>192</td>\n      <td>216</td>\n      <td>1</td>\n      <td>2.007386</td>\n      <td>inf</td>\n      <td>0.477646</td>\n      <td>0.500000</td>\n      <td>0.022354</td>\n      <td>1.117715</td>\n      <td>0.012398</td>\n    </tr>\n  </tbody>\n</table>\n</div>"
     },
     "metadata": {},
     "output_type": "display_data"
    },
    {
     "data": {
      "text/plain": "<IPython.core.display.Markdown object>",
      "text/markdown": "Відповідь: оскільки  критичне значення $K_к($16.81) >  $K_e($4.47) ми не маємо підстав відхилити гіпотезу $H_0$ про нормальність розподілу вибірки."
     },
     "execution_count": 226,
     "metadata": {},
     "output_type": "execute_result"
    }
   ],
   "source": [
    "import pandas as pd\n",
    "import scipy as sp\n",
    "from IPython.display import Markdown as md\n",
    "from IPython.display import display\n",
    "\n",
    "data = pd.DataFrame({'x_lower': [item[0] for item in x_i],\n",
    "                     'x_upper': [item[1] for item in x_i],\n",
    "                     'n': n})\n",
    "\n",
    "# Нижня межа Z-значення\n",
    "data['Z_upper'] = (data['x_upper'] - mean_x) / sd_x\n",
    "\n",
    "# Верхня межа Z-значення\n",
    "data['Z_lower'] = data['Z_upper'].shift(1)\n",
    "\n",
    "# Зміна позиції стовпчика\n",
    "data = data.iloc[:, [0, 1, 2, 4, 3]]\n",
    "\n",
    "# Форматування безконечності\n",
    "data.iloc[0, 3] = -np.inf\n",
    "data.iloc[8, 4] = np.inf\n",
    "\n",
    "# Нижня межа F-значення\n",
    "data['F_lower'] = [sp.stats.norm.cdf(data.loc[i, 'Z_lower']) - 0.5 for i in range(len(data['Z_lower']))]\n",
    "\n",
    "# Верхня межа F-значення\n",
    "data['F_upper'] = data['F_lower'].shift(-1)\n",
    "\n",
    "# Корегування значення\n",
    "data.iloc[8, 6] = 0.5\n",
    "\n",
    "# Розрахунок P-значення\n",
    "data['P'] = data['F_upper'] - data['F_lower']\n",
    "\n",
    "# Розрахунок теоретичної частоти\n",
    "data['N'] = data['P']*sum(data['n'])\n",
    "\n",
    "# Критерії узгодженості\n",
    "data['K'] = (data['n'] - data['N'])**2 / data['N']\n",
    "\n",
    "# Демонстрація таблиці\n",
    "display(data)\n",
    "\n",
    "# Критерій узгодженості Пірсона\n",
    "K = sum(data['K'])\n",
    "\n",
    "# Табличне значення Хі-квадрат\n",
    "Chi2 = sp.stats.chi2.ppf(0.99, len(x)-2-1)\n",
    "\n",
    "# Висновок\n",
    "md(f'Відповідь: оскільки  критичне значення $K_к(${round(Chi2, 2)}) >  $K_e(${round(K, 2)}) ми не маємо підстав відхилити гіпотезу $H_0$ про нормальність розподілу вибірки.')"
   ],
   "metadata": {
    "collapsed": false
   }
  },
  {
   "cell_type": "markdown",
   "source": [
    "4. Критерій Шапіро-Вілка:"
   ],
   "metadata": {
    "collapsed": false
   }
  },
  {
   "cell_type": "code",
   "execution_count": 227,
   "outputs": [
    {
     "name": "stdout",
     "output_type": "stream",
     "text": [
      "З вихідних значень p-значення(0.03) < 0.05. Це означає, що розподіл даних відрізняється від нормального розподілу.\n"
     ]
    }
   ],
   "source": [
    "# Генеруємо значення\n",
    "x_rep = np.repeat(x, n, axis=0)\n",
    "\n",
    "# Критерій Шапіро-Вілка\n",
    "W, p_value = sp.stats.shapiro(x_rep)\n",
    "\n",
    "print(f'З вихідних значень p-значення({round(p_value,2)}) < 0.05. Це означає, що розподіл даних відрізняється від нормального розподілу.')"
   ],
   "metadata": {
    "collapsed": false
   }
  },
  {
   "cell_type": "markdown",
   "source": [
    "5. Наближений метод:"
   ],
   "metadata": {
    "collapsed": false
   }
  },
  {
   "cell_type": "code",
   "execution_count": 228,
   "outputs": [
    {
     "name": "stdout",
     "output_type": "stream",
     "text": [
      "З вихідних значень p-значення(0.08) > 0.05. Це означає, що розподіл даних не відрізняється від нормального розподілу.\n"
     ]
    }
   ],
   "source": [
    "np.random.seed(1234)\n",
    "\n",
    "# Додаємо випадкового шуму до даних\n",
    "W, p_value = sp.stats.shapiro(x_rep + np.random.uniform(low=-2.5, high=2.5, size=sum(n)))\n",
    "\n",
    "print(f'З вихідних значень p-значення({round(p_value,2)}) > 0.05. Це означає, що розподіл даних не відрізняється від нормального розподілу.')"
   ],
   "metadata": {
    "collapsed": false
   }
  },
  {
   "cell_type": "markdown",
   "source": [
    "6. QQ-plot:"
   ],
   "metadata": {
    "collapsed": false
   }
  },
  {
   "cell_type": "code",
   "execution_count": 229,
   "outputs": [
    {
     "data": {
      "text/plain": "<Figure size 640x480 with 1 Axes>",
      "image/png": "[encoded data removed]"
     },
     "metadata": {},
     "output_type": "display_data"
    }
   ],
   "source": [
    "import statsmodels.api as sm\n",
    "from matplotlib import pyplot as plt\n",
    "import scipy.stats as stats\n",
    "\n",
    "sm.qqplot(x_rep, stats.t, fit=True, line=\"45\")\n",
    "plt.show()"
   ],
   "metadata": {
    "collapsed": false
   }
  }
 ],
 "metadata": {
  "kernelspec": {
   "display_name": "Python 3",
   "language": "python",
   "name": "python3"
  },
  "language_info": {
   "codemirror_mode": {
    "name": "ipython",
    "version": 2
   },
   "file_extension": ".py",
   "mimetype": "text/x-python",
   "name": "python",
   "nbconvert_exporter": "python",
   "pygments_lexer": "ipython2",
   "version": "2.7.6"
  }
 },
 "nbformat": 4,
 "nbformat_minor": 0
}
