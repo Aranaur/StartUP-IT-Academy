{
 "cells": [
  {
   "cell_type": "markdown",
   "source": [
    "# Завдання 1\n",
    "Протягом 50 років вимірювався рівень води навесні під час повені відносно умовного нуля. Результати вимірювання наведено у вигляді інтервального статистичного розподілу:\n",
    "\n",
    "| **x_i** | 0-24 | 24-48 | 48-72 | 72-96 | 96-120 | 120-144 | 144-168 | 168-192 | 192-216 |\n",
    "|:-------:|:----:|:-----:|:-----:|:-----:|:------:|:-------:|:-------:|:-------:|:-------:|\n",
    "| **n_i** |   1  |   2   |   4   |   6   |   12   |    16   |    6    |    2    |    1    |\n",
    "\n",
    "За заданими статистичними розподілами вибірки висунути $H_0$ про закон розподілу ознаки генеральної сукупності і при рівні значущості $\\alpha = 0.01$ перевірити її правильність.\n",
    "\n",
    "## Рішення\n",
    "1. Розрахуємо статистики:"
   ],
   "metadata": {
    "collapsed": false
   }
  },
  {
   "cell_type": "code",
   "execution_count": 130,
   "outputs": [
    {
     "name": "stdout",
     "output_type": "stream",
     "text": [
      "Середнє значення = 114.72\n",
      "Дисперсія = 1452.44\n",
      "Стандартне відхилення = 38.11\n"
     ]
    }
   ],
   "source": [
    "import numpy as np\n",
    "\n",
    "x_i = [[0, 24], [24, 48], [48, 72], [72, 96], [96, 120], [120, 144], [144, 168], [168, 192], [192, 216]]\n",
    "x = np.array([(item[1] + item[0])/2 for item in x_i])\n",
    "n = np.array([1, 2, 4, 6, 12, 16, 6, 2, 1])\n",
    "\n",
    "mean_x = sum(x * n / sum(n))\n",
    "mean_x\n",
    "\n",
    "var_x = sum(x**2 * n) / sum(n) - mean_x**2\n",
    "var_x\n",
    "\n",
    "sd_x = var_x ** (1/2)\n",
    "sd_x\n",
    "\n",
    "print(f'Середнє значення = {mean_x}\\n'\n",
    "      f'Дисперсія = {round(var_x, 2)}\\n'\n",
    "      f'Стандартне відхилення = {round(sd_x, 2)}')"
   ],
   "metadata": {
    "collapsed": false
   }
  },
  {
   "cell_type": "markdown",
   "source": [
    "2. Побудуємо гістограму:"
   ],
   "metadata": {
    "collapsed": false
   }
  },
  {
   "cell_type": "code",
   "execution_count": 131,
   "outputs": [
    {
     "data": {
      "text/plain": "<Figure size 640x480 with 1 Axes>",
      "image/png": "[encoded data removed]"
     },
     "metadata": {},
     "output_type": "display_data"
    },
    {
     "name": "stdout",
     "output_type": "stream",
     "text": [
      "Можна висунути гіпотезу про нормальність розподілу вибірки.\n"
     ]
    }
   ],
   "source": [
    "import matplotlib.pyplot as plt\n",
    "\n",
    "plt.bar(x, n, width=24, edgecolor='gray')\n",
    "plt.xticks(x+12)\n",
    "plt.show()\n",
    "\n",
    "print('Можна висунути гіпотезу про нормальність розподілу вибірки.')"
   ],
   "metadata": {
    "collapsed": false
   }
  },
  {
   "cell_type": "markdown",
   "source": [
    "3. Перевіримо гіпотезу за критерієм узгодженості Пірсона"
   ],
   "metadata": {
    "collapsed": false
   }
  },
  {
   "cell_type": "code",
   "execution_count": 132,
   "outputs": [
    {
     "data": {
      "text/plain": "   x_lower  x_upper   n   Z_lower   Z_upper   F_lower   F_upper         P  \\\n0        0       24   1      -inf -2.380421 -0.500000 -0.491354  0.008646   \n1       24       48   2 -2.380421 -1.750680 -0.491354 -0.459999  0.031354   \n2       48       72   4 -1.750680 -1.120939 -0.459999 -0.368843  0.091156   \n3       72       96   6 -1.120939 -0.491198 -0.368843 -0.188357  0.180486   \n4       96      120  12 -0.491198  0.138543 -0.188357  0.055094  0.243451   \n5      120      144  16  0.138543  0.768284  0.055094  0.278841  0.223746   \n6      144      168   6  0.768284  1.398025  0.278841  0.418947  0.140106   \n7      168      192   2  1.398025  2.027766  0.418947  0.478708  0.059761   \n8      192      216   1  2.027766       inf  0.478708  0.500000  0.021292   \n\n           N         K  \n0   0.432322  0.745412  \n1   1.567705  0.119205  \n2   4.557820  0.068270  \n3   9.024314  1.013537  \n4  12.172556  0.002446  \n5  11.187319  2.070371  \n6   7.005323  0.144272  \n7   2.988036  0.326708  \n8   1.064604  0.003920  ",
      "text/html": "<div>\n<style scoped>\n    .dataframe tbody tr th:only-of-type {\n        vertical-align: middle;\n    }\n\n    .dataframe tbody tr th {\n        vertical-align: top;\n    }\n\n    .dataframe thead th {\n        text-align: right;\n    }\n</style>\n<table border=\"1\" class=\"dataframe\">\n  <thead>\n    <tr style=\"text-align: right;\">\n      <th></th>\n      <th>x_lower</th>\n      <th>x_upper</th>\n      <th>n</th>\n      <th>Z_lower</th>\n      <th>Z_upper</th>\n      <th>F_lower</th>\n      <th>F_upper</th>\n      <th>P</th>\n      <th>N</th>\n      <th>K</th>\n    </tr>\n  </thead>\n  <tbody>\n    <tr>\n      <th>0</th>\n      <td>0</td>\n      <td>24</td>\n      <td>1</td>\n      <td>-inf</td>\n      <td>-2.380421</td>\n      <td>-0.500000</td>\n      <td>-0.491354</td>\n      <td>0.008646</td>\n      <td>0.432322</td>\n      <td>0.745412</td>\n    </tr>\n    <tr>\n      <th>1</th>\n      <td>24</td>\n      <td>48</td>\n      <td>2</td>\n      <td>-2.380421</td>\n      <td>-1.750680</td>\n      <td>-0.491354</td>\n      <td>-0.459999</td>\n      <td>0.031354</td>\n      <td>1.567705</td>\n      <td>0.119205</td>\n    </tr>\n    <tr>\n      <th>2</th>\n      <td>48</td>\n      <td>72</td>\n      <td>4</td>\n      <td>-1.750680</td>\n      <td>-1.120939</td>\n      <td>-0.459999</td>\n      <td>-0.368843</td>\n      <td>0.091156</td>\n      <td>4.557820</td>\n      <td>0.068270</td>\n    </tr>\n    <tr>\n      <th>3</th>\n      <td>72</td>\n      <td>96</td>\n      <td>6</td>\n      <td>-1.120939</td>\n      <td>-0.491198</td>\n      <td>-0.368843</td>\n      <td>-0.188357</td>\n      <td>0.180486</td>\n      <td>9.024314</td>\n      <td>1.013537</td>\n    </tr>\n    <tr>\n      <th>4</th>\n      <td>96</td>\n      <td>120</td>\n      <td>12</td>\n      <td>-0.491198</td>\n      <td>0.138543</td>\n      <td>-0.188357</td>\n      <td>0.055094</td>\n      <td>0.243451</td>\n      <td>12.172556</td>\n      <td>0.002446</td>\n    </tr>\n    <tr>\n      <th>5</th>\n      <td>120</td>\n      <td>144</td>\n      <td>16</td>\n      <td>0.138543</td>\n      <td>0.768284</td>\n      <td>0.055094</td>\n      <td>0.278841</td>\n      <td>0.223746</td>\n      <td>11.187319</td>\n      <td>2.070371</td>\n    </tr>\n    <tr>\n      <th>6</th>\n      <td>144</td>\n      <td>168</td>\n      <td>6</td>\n      <td>0.768284</td>\n      <td>1.398025</td>\n      <td>0.278841</td>\n      <td>0.418947</td>\n      <td>0.140106</td>\n      <td>7.005323</td>\n      <td>0.144272</td>\n    </tr>\n    <tr>\n      <th>7</th>\n      <td>168</td>\n      <td>192</td>\n      <td>2</td>\n      <td>1.398025</td>\n      <td>2.027766</td>\n      <td>0.418947</td>\n      <td>0.478708</td>\n      <td>0.059761</td>\n      <td>2.988036</td>\n      <td>0.326708</td>\n    </tr>\n    <tr>\n      <th>8</th>\n      <td>192</td>\n      <td>216</td>\n      <td>1</td>\n      <td>2.027766</td>\n      <td>inf</td>\n      <td>0.478708</td>\n      <td>0.500000</td>\n      <td>0.021292</td>\n      <td>1.064604</td>\n      <td>0.003920</td>\n    </tr>\n  </tbody>\n</table>\n</div>"
     },
     "metadata": {},
     "output_type": "display_data"
    },
    {
     "data": {
      "text/plain": "<IPython.core.display.Markdown object>",
      "text/markdown": "Відповідь: оскільки  критичне значення $K_к($16.81) >  $K_e($4.49) ми не маємо підстав відхилити гіпотезу $H_0$ про нормальність розподілу вибірки."
     },
     "execution_count": 132,
     "metadata": {},
     "output_type": "execute_result"
    }
   ],
   "source": [
    "import pandas as pd\n",
    "import scipy as sp\n",
    "from IPython.display import Markdown as md\n",
    "from IPython.display import display\n",
    "\n",
    "data = pd.DataFrame({'x_lower': [item[0] for item in x_i],\n",
    "                     'x_upper': [item[1] for item in x_i],\n",
    "                     'n': n})\n",
    "\n",
    "# Нижня межа Z-значення\n",
    "data['Z_upper'] = (data['x_upper'] - mean_x) / sd_x\n",
    "\n",
    "# Верхня межа Z-значення\n",
    "data['Z_lower'] = data['Z_upper'].shift(1)\n",
    "\n",
    "# Зміна позиції стовпчика\n",
    "data = data.iloc[:, [0, 1, 2, 4, 3]]\n",
    "\n",
    "# Форматування безконечності\n",
    "data.iloc[0, 3] = -np.inf\n",
    "data.iloc[8, 4] = np.inf\n",
    "\n",
    "# Нижня межа F-значення\n",
    "data['F_lower'] = [sp.stats.norm.cdf(data.loc[i, 'Z_lower']) - 0.5 for i in range(len(data['Z_lower']))]\n",
    "\n",
    "# Верхня межа F-значення\n",
    "data['F_upper'] = data['F_lower'].shift(-1)\n",
    "\n",
    "# Корегування значення\n",
    "data.iloc[8, 6] = 0.5\n",
    "\n",
    "# Розрахунок P-значення\n",
    "data['P'] = data['F_upper'] - data['F_lower']\n",
    "\n",
    "# Розрахунок теоретичної частоти\n",
    "data['N'] = data['P']*sum(data['n'])\n",
    "\n",
    "# Критерії узгодженості\n",
    "data['K'] = (data['n'] - data['N'])**2 / data['N']\n",
    "\n",
    "# Демонстрація таблиці\n",
    "display(data)\n",
    "\n",
    "# Критерій узгодженості Пірсона\n",
    "K = sum(data['K'])\n",
    "\n",
    "# Табличне значення Хі-квадрат\n",
    "Chi2 = sp.stats.chi2.ppf(0.99, len(x)-2-1)\n",
    "\n",
    "# Висновок\n",
    "md(f'Відповідь: оскільки  критичне значення $K_к(${round(Chi2, 2)}) >  $K_e(${round(K, 2)}) ми не маємо підстав відхилити гіпотезу $H_0$ про нормальність розподілу вибірки.')"
   ],
   "metadata": {
    "collapsed": false
   }
  }
 ],
 "metadata": {
  "kernelspec": {
   "display_name": "Python 3",
   "language": "python",
   "name": "python3"
  },
  "language_info": {
   "codemirror_mode": {
    "name": "ipython",
    "version": 2
   },
   "file_extension": ".py",
   "mimetype": "text/x-python",
   "name": "python",
   "nbconvert_exporter": "python",
   "pygments_lexer": "ipython2",
   "version": "2.7.6"
  }
 },
 "nbformat": 4,
 "nbformat_minor": 0
}
