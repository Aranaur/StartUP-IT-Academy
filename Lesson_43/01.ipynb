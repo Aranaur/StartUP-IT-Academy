{
 "cells": [
  {
   "cell_type": "markdown",
   "source": [
    "# Завдання\n",
    "Застосувати методи відбору ознак до датасету `iris`\n",
    "\n",
    "## Рішення"
   ],
   "metadata": {
    "collapsed": false
   }
  },
  {
   "cell_type": "code",
   "execution_count": 27,
   "metadata": {
    "collapsed": true
   },
   "outputs": [],
   "source": [
    "from sklearn.datasets import load_iris\n",
    "from sklearn.feature_selection import VarianceThreshold, SelectKBest, SelectFromModel, f_classif\n",
    "from sklearn.decomposition import PCA, TruncatedSVD\n",
    "from sklearn.discriminant_analysis import LinearDiscriminantAnalysis\n",
    "from sklearn.ensemble import RandomForestClassifier\n",
    "from sklearn.model_selection import train_test_split"
   ]
  },
  {
   "cell_type": "code",
   "execution_count": 28,
   "outputs": [],
   "source": [
    "iris = load_iris()\n",
    "X = iris.data\n",
    "y = iris.target\n",
    "X_train, X_test, y_train, y_test = train_test_split(X, y, test_size=0.2, random_state=2023)"
   ],
   "metadata": {
    "collapsed": false
   }
  },
  {
   "cell_type": "markdown",
   "source": [
    "### VarianceThreshold"
   ],
   "metadata": {
    "collapsed": false
   }
  },
  {
   "cell_type": "code",
   "execution_count": 29,
   "outputs": [
    {
     "data": {
      "text/plain": "array([[6.4, 5.6, 2.1],\n       [6.4, 4.3, 1.3],\n       [5.7, 4.1, 1.3],\n       [7.3, 6.3, 1.8],\n       [6.8, 4.8, 1.4],\n       [5.7, 5. , 2. ],\n       [5.4, 4.5, 1.5],\n       [5.7, 4.2, 1.3],\n       [5. , 1.4, 0.2],\n       [6. , 4. , 1. ],\n       [4.8, 1.6, 0.2],\n       [6.7, 4.7, 1.5],\n       [4.5, 1.3, 0.3],\n       [6.4, 5.5, 1.8],\n       [5.1, 1.4, 0.3],\n       [6.9, 5.7, 2.3],\n       [5.2, 1.5, 0.1],\n       [4.9, 3.3, 1. ],\n       [5. , 1.2, 0.2],\n       [5.4, 1.3, 0.4],\n       [5.6, 4.2, 1.3],\n       [4.7, 1.3, 0.2],\n       [7.7, 6.7, 2. ],\n       [7. , 4.7, 1.4],\n       [5.1, 1.7, 0.5],\n       [5.8, 1.2, 0.2],\n       [5.1, 1.5, 0.4],\n       [7.7, 6.1, 2.3],\n       [5.5, 3.7, 1. ],\n       [5.3, 1.5, 0.2]])"
     },
     "execution_count": 29,
     "metadata": {},
     "output_type": "execute_result"
    }
   ],
   "source": [
    "# використовуємо VarianceThreshold для відбору ознак\n",
    "selector = VarianceThreshold(threshold=0.3)\n",
    "X_train_sel = selector.fit_transform(X_train)\n",
    "X_test_sel = selector.transform(X_test)\n",
    "X_test_sel"
   ],
   "metadata": {
    "collapsed": false
   }
  },
  {
   "cell_type": "markdown",
   "source": [
    "### SelectKBest"
   ],
   "metadata": {
    "collapsed": false
   }
  },
  {
   "cell_type": "code",
   "execution_count": 30,
   "outputs": [
    {
     "data": {
      "text/plain": "array([[6.4, 5.6, 2.1],\n       [6.4, 4.3, 1.3],\n       [5.7, 4.1, 1.3],\n       [7.3, 6.3, 1.8],\n       [6.8, 4.8, 1.4],\n       [5.7, 5. , 2. ],\n       [5.4, 4.5, 1.5],\n       [5.7, 4.2, 1.3],\n       [5. , 1.4, 0.2],\n       [6. , 4. , 1. ],\n       [4.8, 1.6, 0.2],\n       [6.7, 4.7, 1.5],\n       [4.5, 1.3, 0.3],\n       [6.4, 5.5, 1.8],\n       [5.1, 1.4, 0.3],\n       [6.9, 5.7, 2.3],\n       [5.2, 1.5, 0.1],\n       [4.9, 3.3, 1. ],\n       [5. , 1.2, 0.2],\n       [5.4, 1.3, 0.4],\n       [5.6, 4.2, 1.3],\n       [4.7, 1.3, 0.2],\n       [7.7, 6.7, 2. ],\n       [7. , 4.7, 1.4],\n       [5.1, 1.7, 0.5],\n       [5.8, 1.2, 0.2],\n       [5.1, 1.5, 0.4],\n       [7.7, 6.1, 2.3],\n       [5.5, 3.7, 1. ],\n       [5.3, 1.5, 0.2]])"
     },
     "execution_count": 30,
     "metadata": {},
     "output_type": "execute_result"
    }
   ],
   "source": [
    "# використовуємо SelectKBest для відбору ознак\n",
    "selector = SelectKBest(f_classif, k=3)\n",
    "X_train_sel = selector.fit_transform(X_train, y_train)\n",
    "X_test_sel = selector.transform(X_test)\n",
    "X_test_sel"
   ],
   "metadata": {
    "collapsed": false
   }
  },
  {
   "cell_type": "markdown",
   "source": [
    "### SelectFromModel"
   ],
   "metadata": {
    "collapsed": false
   }
  },
  {
   "cell_type": "code",
   "execution_count": 31,
   "outputs": [
    {
     "data": {
      "text/plain": "array([[5.6, 2.1],\n       [4.3, 1.3],\n       [4.1, 1.3],\n       [6.3, 1.8],\n       [4.8, 1.4],\n       [5. , 2. ],\n       [4.5, 1.5],\n       [4.2, 1.3],\n       [1.4, 0.2],\n       [4. , 1. ],\n       [1.6, 0.2],\n       [4.7, 1.5],\n       [1.3, 0.3],\n       [5.5, 1.8],\n       [1.4, 0.3],\n       [5.7, 2.3],\n       [1.5, 0.1],\n       [3.3, 1. ],\n       [1.2, 0.2],\n       [1.3, 0.4],\n       [4.2, 1.3],\n       [1.3, 0.2],\n       [6.7, 2. ],\n       [4.7, 1.4],\n       [1.7, 0.5],\n       [1.2, 0.2],\n       [1.5, 0.4],\n       [6.1, 2.3],\n       [3.7, 1. ],\n       [1.5, 0.2]])"
     },
     "execution_count": 31,
     "metadata": {},
     "output_type": "execute_result"
    }
   ],
   "source": [
    "# використовуємо SelectFromModel для відбору ознак\n",
    "clf = RandomForestClassifier(n_estimators=100, random_state=2023)\n",
    "selector = SelectFromModel(clf, threshold=\"median\")\n",
    "X_train_sel = selector.fit_transform(X_train, y_train)\n",
    "X_test_sel = selector.transform(X_test)\n",
    "X_test_sel"
   ],
   "metadata": {
    "collapsed": false
   }
  },
  {
   "cell_type": "markdown",
   "source": [
    "### PCA"
   ],
   "metadata": {
    "collapsed": false
   }
  },
  {
   "cell_type": "code",
   "execution_count": 32,
   "outputs": [
    {
     "data": {
      "text/plain": "array([[ 2.04822331, -0.20184399],\n       [ 0.63751654,  0.15196658],\n       [ 0.22140826, -0.33426981],\n       [ 2.85430616,  0.34464607],\n       [ 1.25350068,  0.23860189],\n       [ 1.26917119, -0.7613683 ],\n       [ 0.51248441, -0.45884507],\n       [ 0.2991693 , -0.27692098],\n       [-2.8019275 ,  0.36003687],\n       [ 0.18094431, -0.55435257],\n       [-2.66481629, -0.17607664],\n       [ 1.14535908,  0.40993042],\n       [-2.93150667, -0.91977067],\n       [ 1.83014741,  0.05961558],\n       [-2.72159218,  0.34244288],\n       [ 2.35657777,  0.38537078],\n       [-2.71919484,  0.85051986],\n       [-0.83001678, -0.98430415],\n       [-2.94206541,  0.09582547],\n       [-2.69291494,  0.84355435],\n       [ 0.27842573, -0.49019125],\n       [-2.96499548, -0.11285213],\n       [ 3.42135268,  0.4420958 ],\n       [ 1.20953468,  0.68255048],\n       [-2.37681762,  0.12751772],\n       [-2.71458024,  1.20393261],\n       [-2.61500771,  0.46795495],\n       [ 3.00279628,  0.67627696],\n       [-0.27143789, -0.67139725],\n       [-2.61578327,  0.60865525]])"
     },
     "execution_count": 32,
     "metadata": {},
     "output_type": "execute_result"
    }
   ],
   "source": [
    "# використовуємо PCA для зменшення розмірності\n",
    "pca = PCA(n_components=2)\n",
    "X_train_sel = pca.fit_transform(X_train)\n",
    "X_test_sel = pca.transform(X_test)\n",
    "X_test_sel"
   ],
   "metadata": {
    "collapsed": false
   }
  },
  {
   "cell_type": "markdown",
   "source": [
    "### SVD"
   ],
   "metadata": {
    "collapsed": false
   }
  },
  {
   "cell_type": "code",
   "execution_count": 33,
   "outputs": [
    {
     "data": {
      "text/plain": "array([[ 9.10668138e+00, -1.27527439e+00],\n       [ 8.33310736e+00, -2.62967623e-02],\n       [ 7.66833689e+00, -1.44791229e-01],\n       [ 1.01286444e+01, -1.34418167e+00],\n       [ 8.87071589e+00, -3.50432611e-01],\n       [ 8.14175778e+00, -1.18674255e+00],\n       [ 7.76140330e+00, -4.74578418e-01],\n       [ 7.75798190e+00, -1.60481402e-01],\n       [ 5.85876162e+00,  2.37060784e+00],\n       [ 7.56241400e+00, -2.08846994e-01],\n       [ 5.62392804e+00,  1.89889912e+00],\n       [ 8.87470162e+00, -1.80854297e-01],\n       [ 4.95889605e+00,  1.55040984e+00],\n       [ 9.11671298e+00, -9.35906931e-01],\n       [ 5.91289141e+00,  2.31010695e+00],\n       [ 9.71786012e+00, -1.05155261e+00],\n       [ 6.23194691e+00,  2.66671274e+00],\n       [ 6.45281629e+00,  7.07679038e-02],\n       [ 5.60386751e+00,  2.29286862e+00],\n       [ 6.25369775e+00,  2.65106481e+00],\n       [ 7.60762317e+00, -2.98805912e-01],\n       [ 5.43144655e+00,  2.13500383e+00],\n       [ 1.06315871e+01, -1.63321361e+00],\n       [ 9.11959040e+00, -3.53363463e-03],\n       [ 6.02717060e+00,  1.91994541e+00],\n       [ 6.50432101e+00,  2.96298643e+00],\n       [ 6.05751566e+00,  2.31383050e+00],\n       [ 1.04476650e+01, -1.20803246e+00],\n       [ 7.10871599e+00, -3.50022682e-02],\n       [ 6.17267056e+00,  2.44253249e+00]])"
     },
     "execution_count": 33,
     "metadata": {},
     "output_type": "execute_result"
    }
   ],
   "source": [
    "# використовуємо SVD для зменшення розмірності\n",
    "svd = TruncatedSVD(n_components=2)\n",
    "X_train_sel = svd.fit_transform(X_train)\n",
    "X_test_sel = svd.transform(X_test)\n",
    "X_test_sel"
   ],
   "metadata": {
    "collapsed": false
   }
  },
  {
   "cell_type": "markdown",
   "source": [
    "### LDA"
   ],
   "metadata": {
    "collapsed": false
   }
  },
  {
   "cell_type": "code",
   "execution_count": 34,
   "outputs": [
    {
     "data": {
      "text/plain": "array([[-6.25640358e+00, -1.83186908e-01],\n       [-1.05367026e+00,  6.28140267e-01],\n       [-1.32198797e+00,  6.12163944e-01],\n       [-6.03323738e+00,  9.68828823e-01],\n       [-2.28498003e+00,  1.03833441e+00],\n       [-5.76725507e+00,  2.32497767e-01],\n       [-2.58188874e+00, -1.13832073e-01],\n       [-1.34772501e+00,  4.48266081e-01],\n       [ 8.46077539e+00, -6.02192204e-01],\n       [-1.14074751e+00,  2.74697949e+00],\n       [ 6.97738731e+00,  6.91579137e-01],\n       [-1.88175262e+00, -5.52195292e-03],\n       [ 5.63218206e+00,  2.06918413e+00],\n       [-4.63510506e+00, -2.18981827e-01],\n       [ 8.06222342e+00, -5.98922072e-01],\n       [-5.94335354e+00, -1.47462404e+00],\n       [ 9.60148862e+00, -1.43134116e+00],\n       [-9.62880633e-02,  1.60054233e+00],\n       [ 8.14425674e+00,  1.97702092e-01],\n       [ 8.93732614e+00, -1.81727186e+00],\n       [-1.78768747e+00,  9.04975686e-01],\n       [ 7.71861414e+00,  2.23686616e-01],\n       [-7.34133909e+00,  1.05870343e+00],\n       [-1.19532170e+00,  5.27637801e-02],\n       [ 6.49197981e+00, -4.06705473e-01],\n       [ 1.01919855e+01, -1.56758046e+00],\n       [ 7.93395740e+00, -1.24703734e+00],\n       [-6.57452198e+00, -5.90808044e-01],\n       [-5.03403255e-01,  1.98148182e+00],\n       [ 8.65094756e+00, -7.19923168e-01]])"
     },
     "execution_count": 34,
     "metadata": {},
     "output_type": "execute_result"
    }
   ],
   "source": [
    "# використовуємо LDA для зменшення розмірності\n",
    "lda = LinearDiscriminantAnalysis(n_components=2)\n",
    "X_train_sel = lda.fit_transform(X_train, y_train)\n",
    "X_test_sel = lda.transform(X_test)\n",
    "X_test_sel"
   ],
   "metadata": {
    "collapsed": false
   }
  }
 ],
 "metadata": {
  "kernelspec": {
   "display_name": "Python 3",
   "language": "python",
   "name": "python3"
  },
  "language_info": {
   "codemirror_mode": {
    "name": "ipython",
    "version": 2
   },
   "file_extension": ".py",
   "mimetype": "text/x-python",
   "name": "python",
   "nbconvert_exporter": "python",
   "pygments_lexer": "ipython2",
   "version": "2.7.6"
  }
 },
 "nbformat": 4,
 "nbformat_minor": 0
}
