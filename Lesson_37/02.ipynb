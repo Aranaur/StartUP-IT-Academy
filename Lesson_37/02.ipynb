{
 "cells": [
  {
   "cell_type": "markdown",
   "metadata": {},
   "source": [
    "# Завдання 2\n",
    "Використовуючи датасет з файлу `communities.csv`, виконати нормалізацію даних. Визначте найкращий метод нормалізації для даного набору даних.\n",
    "\n",
    "## Рішення"
   ]
  },
  {
   "cell_type": "code",
   "execution_count": 4,
   "metadata": {},
   "outputs": [
    {
     "data": {
      "text/plain": "    8  1  0.19  0.33  0.02   0.9  0.12  0.17  0.34  0.47  ...  0.12.1  0.42  \\\n0  53  1  0.00  0.16  0.12  0.74  0.45  0.07  0.26  0.59  ...    0.21  0.50   \n1  24  1  0.00  0.42  0.49  0.56  0.17  0.04  0.39  0.47  ...    0.14  0.49   \n2  34  1  0.04  0.77  1.00  0.08  0.12  0.10  0.51  0.50  ...    0.19  0.30   \n3  42  1  0.01  0.55  0.02  0.95  0.09  0.05  0.38  0.38  ...    0.11  0.72   \n4   6  1  0.02  0.28  0.06  0.54  1.00  0.25  0.31  0.48  ...    0.70  0.42   \n\n   0.5.1  0.51.1  0.64  0.12.2  0.26.1  0.2.1  0.32.2  0.2.2  \n0   0.34    0.60  0.52    0.02    0.12   0.45     0.0   0.67  \n1   0.54    0.67  0.56    0.01    0.21   0.02     0.0   0.43  \n2   0.73    0.64  0.65    0.02    0.39   0.28     0.0   0.12  \n3   0.64    0.61  0.53    0.04    0.09   0.02     0.0   0.03  \n4   0.49    0.73  0.64    0.01    0.58   0.10     0.0   0.14  \n\n[5 rows x 102 columns]",
      "text/html": "<div>\n<style scoped>\n    .dataframe tbody tr th:only-of-type {\n        vertical-align: middle;\n    }\n\n    .dataframe tbody tr th {\n        vertical-align: top;\n    }\n\n    .dataframe thead th {\n        text-align: right;\n    }\n</style>\n<table border=\"1\" class=\"dataframe\">\n  <thead>\n    <tr style=\"text-align: right;\">\n      <th></th>\n      <th>8</th>\n      <th>1</th>\n      <th>0.19</th>\n      <th>0.33</th>\n      <th>0.02</th>\n      <th>0.9</th>\n      <th>0.12</th>\n      <th>0.17</th>\n      <th>0.34</th>\n      <th>0.47</th>\n      <th>...</th>\n      <th>0.12.1</th>\n      <th>0.42</th>\n      <th>0.5.1</th>\n      <th>0.51.1</th>\n      <th>0.64</th>\n      <th>0.12.2</th>\n      <th>0.26.1</th>\n      <th>0.2.1</th>\n      <th>0.32.2</th>\n      <th>0.2.2</th>\n    </tr>\n  </thead>\n  <tbody>\n    <tr>\n      <th>0</th>\n      <td>53</td>\n      <td>1</td>\n      <td>0.00</td>\n      <td>0.16</td>\n      <td>0.12</td>\n      <td>0.74</td>\n      <td>0.45</td>\n      <td>0.07</td>\n      <td>0.26</td>\n      <td>0.59</td>\n      <td>...</td>\n      <td>0.21</td>\n      <td>0.50</td>\n      <td>0.34</td>\n      <td>0.60</td>\n      <td>0.52</td>\n      <td>0.02</td>\n      <td>0.12</td>\n      <td>0.45</td>\n      <td>0.0</td>\n      <td>0.67</td>\n    </tr>\n    <tr>\n      <th>1</th>\n      <td>24</td>\n      <td>1</td>\n      <td>0.00</td>\n      <td>0.42</td>\n      <td>0.49</td>\n      <td>0.56</td>\n      <td>0.17</td>\n      <td>0.04</td>\n      <td>0.39</td>\n      <td>0.47</td>\n      <td>...</td>\n      <td>0.14</td>\n      <td>0.49</td>\n      <td>0.54</td>\n      <td>0.67</td>\n      <td>0.56</td>\n      <td>0.01</td>\n      <td>0.21</td>\n      <td>0.02</td>\n      <td>0.0</td>\n      <td>0.43</td>\n    </tr>\n    <tr>\n      <th>2</th>\n      <td>34</td>\n      <td>1</td>\n      <td>0.04</td>\n      <td>0.77</td>\n      <td>1.00</td>\n      <td>0.08</td>\n      <td>0.12</td>\n      <td>0.10</td>\n      <td>0.51</td>\n      <td>0.50</td>\n      <td>...</td>\n      <td>0.19</td>\n      <td>0.30</td>\n      <td>0.73</td>\n      <td>0.64</td>\n      <td>0.65</td>\n      <td>0.02</td>\n      <td>0.39</td>\n      <td>0.28</td>\n      <td>0.0</td>\n      <td>0.12</td>\n    </tr>\n    <tr>\n      <th>3</th>\n      <td>42</td>\n      <td>1</td>\n      <td>0.01</td>\n      <td>0.55</td>\n      <td>0.02</td>\n      <td>0.95</td>\n      <td>0.09</td>\n      <td>0.05</td>\n      <td>0.38</td>\n      <td>0.38</td>\n      <td>...</td>\n      <td>0.11</td>\n      <td>0.72</td>\n      <td>0.64</td>\n      <td>0.61</td>\n      <td>0.53</td>\n      <td>0.04</td>\n      <td>0.09</td>\n      <td>0.02</td>\n      <td>0.0</td>\n      <td>0.03</td>\n    </tr>\n    <tr>\n      <th>4</th>\n      <td>6</td>\n      <td>1</td>\n      <td>0.02</td>\n      <td>0.28</td>\n      <td>0.06</td>\n      <td>0.54</td>\n      <td>1.00</td>\n      <td>0.25</td>\n      <td>0.31</td>\n      <td>0.48</td>\n      <td>...</td>\n      <td>0.70</td>\n      <td>0.42</td>\n      <td>0.49</td>\n      <td>0.73</td>\n      <td>0.64</td>\n      <td>0.01</td>\n      <td>0.58</td>\n      <td>0.10</td>\n      <td>0.0</td>\n      <td>0.14</td>\n    </tr>\n  </tbody>\n</table>\n<p>5 rows × 102 columns</p>\n</div>"
     },
     "execution_count": 4,
     "metadata": {},
     "output_type": "execute_result"
    }
   ],
   "source": [
    "import pandas as pd\n",
    "import numpy as np\n",
    "from sklearn.model_selection import train_test_split\n",
    "from sklearn.linear_model import LogisticRegression\n",
    "from sklearn.metrics import mean_squared_error\n",
    "import matplotlib.pyplot as plt\n",
    "\n",
    "# Завантаження даних\n",
    "data = pd.read_csv('communities.csv')\n",
    "numeric_cols = data.select_dtypes(include=np.number).columns.tolist()\n",
    "data = data[numeric_cols]\n",
    "data.head()"
   ]
  },
  {
   "cell_type": "code",
   "execution_count": 5,
   "metadata": {},
   "outputs": [],
   "source": [
    "X = data.drop(\"1\", axis=1)\n",
    "y = data[\"1\"]\n",
    "X_train, X_test, y_train, y_test = train_test_split(X, y, test_size=0.2, random_state=2023)"
   ]
  },
  {
   "cell_type": "code",
   "execution_count": 6,
   "metadata": {},
   "outputs": [
    {
     "name": "stdout",
     "output_type": "stream",
     "text": [
      "Ridge: 16.50\n",
      "Lasso: 15.70\n",
      "ElasticNet: 15.56\n"
     ]
    }
   ],
   "source": [
    "# Моделі Ridge, Lasso та ElasticNet\n",
    "iteration = 10000\n",
    "\n",
    "models = [\n",
    "    (\"Ridge\", LogisticRegression(penalty='l2', max_iter=iteration)),\n",
    "    (\"Lasso\", LogisticRegression(penalty='l1', max_iter=iteration, solver='liblinear')),\n",
    "    (\"ElasticNet\", LogisticRegression(penalty='elasticnet', max_iter=iteration, solver='saga', l1_ratio=1))\n",
    "]\n",
    "\n",
    "# Навчання та оцінка моделей\n",
    "for name, model in models:\n",
    "    model.fit(X_train, y_train)\n",
    "    y_pred = model.predict(X_test)\n",
    "    mse = mean_squared_error(y_test, y_pred)\n",
    "    print(f\"{name}: {mse:.2f}\")"
   ]
  },
  {
   "attachments": {},
   "cell_type": "markdown",
   "metadata": {},
   "source": [
    "### Висновок: З цих результатів видно, що найкращою моделлю є ElasticNet, оскільки вона має найменше значення середньоквадратичного відхилення. Але слід враховувати, що для інтерпретації результатів необхідно розуміти значення кожної змінної, а цього в нас не має."
   ]
  }
 ],
 "metadata": {
  "kernelspec": {
   "display_name": "venv",
   "language": "python",
   "name": "python3"
  },
  "language_info": {
   "codemirror_mode": {
    "name": "ipython",
    "version": 3
   },
   "file_extension": ".py",
   "mimetype": "text/x-python",
   "name": "python",
   "nbconvert_exporter": "python",
   "pygments_lexer": "ipython3",
   "version": "3.10.8"
  },
  "vscode": {
   "interpreter": {
    "hash": "83fe7edd703b5c28325203de45004ae5b5c15d949a20e281fd5c2a281645b8a8"
   }
  }
 },
 "nbformat": 4,
 "nbformat_minor": 1
}
