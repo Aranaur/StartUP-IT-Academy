{
 "cells": [
  {
   "cell_type": "markdown",
   "source": [
    "# Завдання 2\n",
    "Використовуючи датасет з файлу `communities.csv`, виконати нормалізацію даних. Визначте найкращий метод нормалізації для даного набору даних.\n",
    "\n",
    "## Рішення"
   ],
   "metadata": {
    "collapsed": false
   }
  },
  {
   "cell_type": "code",
   "execution_count": 2,
   "outputs": [
    {
     "data": {
      "text/plain": "       8   ?    ?.1         Lakewoodcity   1  0.19  0.33  0.02   0.9  0.12  \\\n0     53   ?      ?          Tukwilacity   1  0.00  0.16  0.12  0.74  0.45   \n1     24   ?      ?         Aberdeentown   1  0.00  0.42  0.49  0.56  0.17   \n2     34   5  81440  Willingborotownship   1  0.04  0.77  1.00  0.08  0.12   \n3     42  95   6096    Bethlehemtownship   1  0.01  0.55  0.02  0.95  0.09   \n4      6   ?      ?    SouthPasadenacity   1  0.02  0.28  0.06  0.54  1.00   \n...   ..  ..    ...                  ...  ..   ...   ...   ...   ...   ...   \n1988  12   ?      ?    TempleTerracecity  10  0.01  0.40  0.10  0.87  0.12   \n1989   6   ?      ?          Seasidecity  10  0.05  0.96  0.46  0.28  0.83   \n1990   9   9  80070        Waterburytown  10  0.16  0.37  0.25  0.69  0.04   \n1991  25  17  72600          Walthamcity  10  0.08  0.51  0.06  0.87  0.22   \n1992   6   ?      ?          Ontariocity  10  0.20  0.78  0.14  0.46  0.24   \n\n      ...  0.12.2  0.26.1  0.2.1  0.06.3  0.04.2  0.9.1  0.5.2  0.32.2  \\\n0     ...    0.02    0.12   0.45       ?       ?      ?      ?    0.00   \n1     ...    0.01    0.21   0.02       ?       ?      ?      ?    0.00   \n2     ...    0.02    0.39   0.28       ?       ?      ?      ?    0.00   \n3     ...    0.04    0.09   0.02       ?       ?      ?      ?    0.00   \n4     ...    0.01    0.58   0.10       ?       ?      ?      ?    0.00   \n...   ...     ...     ...    ...     ...     ...    ...    ...     ...   \n1988  ...    0.01    0.28   0.05       ?       ?      ?      ?    0.00   \n1989  ...    0.02    0.37   0.20       ?       ?      ?      ?    0.00   \n1990  ...    0.08    0.32   0.18    0.08    0.06   0.78      0    0.91   \n1991  ...    0.03    0.38   0.33    0.02    0.02   0.79      0    0.22   \n1992  ...    0.11    0.30   0.05    0.08    0.04   0.73    0.5    1.00   \n\n      0.14.3  0.2.2  \n0          ?   0.67  \n1          ?   0.43  \n2          ?   0.12  \n3          ?   0.03  \n4          ?   0.14  \n...      ...    ...  \n1988       ?   0.09  \n1989       ?   0.45  \n1990    0.28   0.23  \n1991    0.18   0.19  \n1992    0.13   0.48  \n\n[1993 rows x 128 columns]",
      "text/html": "<div>\n<style scoped>\n    .dataframe tbody tr th:only-of-type {\n        vertical-align: middle;\n    }\n\n    .dataframe tbody tr th {\n        vertical-align: top;\n    }\n\n    .dataframe thead th {\n        text-align: right;\n    }\n</style>\n<table border=\"1\" class=\"dataframe\">\n  <thead>\n    <tr style=\"text-align: right;\">\n      <th></th>\n      <th>8</th>\n      <th>?</th>\n      <th>?.1</th>\n      <th>Lakewoodcity</th>\n      <th>1</th>\n      <th>0.19</th>\n      <th>0.33</th>\n      <th>0.02</th>\n      <th>0.9</th>\n      <th>0.12</th>\n      <th>...</th>\n      <th>0.12.2</th>\n      <th>0.26.1</th>\n      <th>0.2.1</th>\n      <th>0.06.3</th>\n      <th>0.04.2</th>\n      <th>0.9.1</th>\n      <th>0.5.2</th>\n      <th>0.32.2</th>\n      <th>0.14.3</th>\n      <th>0.2.2</th>\n    </tr>\n  </thead>\n  <tbody>\n    <tr>\n      <th>0</th>\n      <td>53</td>\n      <td>?</td>\n      <td>?</td>\n      <td>Tukwilacity</td>\n      <td>1</td>\n      <td>0.00</td>\n      <td>0.16</td>\n      <td>0.12</td>\n      <td>0.74</td>\n      <td>0.45</td>\n      <td>...</td>\n      <td>0.02</td>\n      <td>0.12</td>\n      <td>0.45</td>\n      <td>?</td>\n      <td>?</td>\n      <td>?</td>\n      <td>?</td>\n      <td>0.00</td>\n      <td>?</td>\n      <td>0.67</td>\n    </tr>\n    <tr>\n      <th>1</th>\n      <td>24</td>\n      <td>?</td>\n      <td>?</td>\n      <td>Aberdeentown</td>\n      <td>1</td>\n      <td>0.00</td>\n      <td>0.42</td>\n      <td>0.49</td>\n      <td>0.56</td>\n      <td>0.17</td>\n      <td>...</td>\n      <td>0.01</td>\n      <td>0.21</td>\n      <td>0.02</td>\n      <td>?</td>\n      <td>?</td>\n      <td>?</td>\n      <td>?</td>\n      <td>0.00</td>\n      <td>?</td>\n      <td>0.43</td>\n    </tr>\n    <tr>\n      <th>2</th>\n      <td>34</td>\n      <td>5</td>\n      <td>81440</td>\n      <td>Willingborotownship</td>\n      <td>1</td>\n      <td>0.04</td>\n      <td>0.77</td>\n      <td>1.00</td>\n      <td>0.08</td>\n      <td>0.12</td>\n      <td>...</td>\n      <td>0.02</td>\n      <td>0.39</td>\n      <td>0.28</td>\n      <td>?</td>\n      <td>?</td>\n      <td>?</td>\n      <td>?</td>\n      <td>0.00</td>\n      <td>?</td>\n      <td>0.12</td>\n    </tr>\n    <tr>\n      <th>3</th>\n      <td>42</td>\n      <td>95</td>\n      <td>6096</td>\n      <td>Bethlehemtownship</td>\n      <td>1</td>\n      <td>0.01</td>\n      <td>0.55</td>\n      <td>0.02</td>\n      <td>0.95</td>\n      <td>0.09</td>\n      <td>...</td>\n      <td>0.04</td>\n      <td>0.09</td>\n      <td>0.02</td>\n      <td>?</td>\n      <td>?</td>\n      <td>?</td>\n      <td>?</td>\n      <td>0.00</td>\n      <td>?</td>\n      <td>0.03</td>\n    </tr>\n    <tr>\n      <th>4</th>\n      <td>6</td>\n      <td>?</td>\n      <td>?</td>\n      <td>SouthPasadenacity</td>\n      <td>1</td>\n      <td>0.02</td>\n      <td>0.28</td>\n      <td>0.06</td>\n      <td>0.54</td>\n      <td>1.00</td>\n      <td>...</td>\n      <td>0.01</td>\n      <td>0.58</td>\n      <td>0.10</td>\n      <td>?</td>\n      <td>?</td>\n      <td>?</td>\n      <td>?</td>\n      <td>0.00</td>\n      <td>?</td>\n      <td>0.14</td>\n    </tr>\n    <tr>\n      <th>...</th>\n      <td>...</td>\n      <td>...</td>\n      <td>...</td>\n      <td>...</td>\n      <td>...</td>\n      <td>...</td>\n      <td>...</td>\n      <td>...</td>\n      <td>...</td>\n      <td>...</td>\n      <td>...</td>\n      <td>...</td>\n      <td>...</td>\n      <td>...</td>\n      <td>...</td>\n      <td>...</td>\n      <td>...</td>\n      <td>...</td>\n      <td>...</td>\n      <td>...</td>\n      <td>...</td>\n    </tr>\n    <tr>\n      <th>1988</th>\n      <td>12</td>\n      <td>?</td>\n      <td>?</td>\n      <td>TempleTerracecity</td>\n      <td>10</td>\n      <td>0.01</td>\n      <td>0.40</td>\n      <td>0.10</td>\n      <td>0.87</td>\n      <td>0.12</td>\n      <td>...</td>\n      <td>0.01</td>\n      <td>0.28</td>\n      <td>0.05</td>\n      <td>?</td>\n      <td>?</td>\n      <td>?</td>\n      <td>?</td>\n      <td>0.00</td>\n      <td>?</td>\n      <td>0.09</td>\n    </tr>\n    <tr>\n      <th>1989</th>\n      <td>6</td>\n      <td>?</td>\n      <td>?</td>\n      <td>Seasidecity</td>\n      <td>10</td>\n      <td>0.05</td>\n      <td>0.96</td>\n      <td>0.46</td>\n      <td>0.28</td>\n      <td>0.83</td>\n      <td>...</td>\n      <td>0.02</td>\n      <td>0.37</td>\n      <td>0.20</td>\n      <td>?</td>\n      <td>?</td>\n      <td>?</td>\n      <td>?</td>\n      <td>0.00</td>\n      <td>?</td>\n      <td>0.45</td>\n    </tr>\n    <tr>\n      <th>1990</th>\n      <td>9</td>\n      <td>9</td>\n      <td>80070</td>\n      <td>Waterburytown</td>\n      <td>10</td>\n      <td>0.16</td>\n      <td>0.37</td>\n      <td>0.25</td>\n      <td>0.69</td>\n      <td>0.04</td>\n      <td>...</td>\n      <td>0.08</td>\n      <td>0.32</td>\n      <td>0.18</td>\n      <td>0.08</td>\n      <td>0.06</td>\n      <td>0.78</td>\n      <td>0</td>\n      <td>0.91</td>\n      <td>0.28</td>\n      <td>0.23</td>\n    </tr>\n    <tr>\n      <th>1991</th>\n      <td>25</td>\n      <td>17</td>\n      <td>72600</td>\n      <td>Walthamcity</td>\n      <td>10</td>\n      <td>0.08</td>\n      <td>0.51</td>\n      <td>0.06</td>\n      <td>0.87</td>\n      <td>0.22</td>\n      <td>...</td>\n      <td>0.03</td>\n      <td>0.38</td>\n      <td>0.33</td>\n      <td>0.02</td>\n      <td>0.02</td>\n      <td>0.79</td>\n      <td>0</td>\n      <td>0.22</td>\n      <td>0.18</td>\n      <td>0.19</td>\n    </tr>\n    <tr>\n      <th>1992</th>\n      <td>6</td>\n      <td>?</td>\n      <td>?</td>\n      <td>Ontariocity</td>\n      <td>10</td>\n      <td>0.20</td>\n      <td>0.78</td>\n      <td>0.14</td>\n      <td>0.46</td>\n      <td>0.24</td>\n      <td>...</td>\n      <td>0.11</td>\n      <td>0.30</td>\n      <td>0.05</td>\n      <td>0.08</td>\n      <td>0.04</td>\n      <td>0.73</td>\n      <td>0.5</td>\n      <td>1.00</td>\n      <td>0.13</td>\n      <td>0.48</td>\n    </tr>\n  </tbody>\n</table>\n<p>1993 rows × 128 columns</p>\n</div>"
     },
     "execution_count": 2,
     "metadata": {},
     "output_type": "execute_result"
    }
   ],
   "source": [
    "import pandas as pd\n",
    "import numpy as np\n",
    "from sklearn.model_selection import train_test_split\n",
    "from sklearn.linear_model import Ridge, Lasso, ElasticNet\n",
    "from sklearn.metrics import mean_squared_error\n",
    "\n",
    "# Завантаження даних\n",
    "data = pd.read_csv('https://raw.githubusercontent.com/Startup-acdm/PDS1/master/Lesson%2037/communities.csv?token=GHSAT0AAAAAABZU7BB5G2DIEMSHQV5IFNMGY7SKSPQ')\n",
    "data"
   ],
   "metadata": {
    "collapsed": false
   }
  },
  {
   "cell_type": "code",
   "execution_count": null,
   "outputs": [],
   "source": [
    "X = data.drop(\"\", axis=1)\n",
    "y = data[\"\"]\n",
    "X_train, X_test, y_train, y_test = train_test_split(X, y, test_size=0.2, random_state=2023)"
   ],
   "metadata": {
    "collapsed": false
   }
  },
  {
   "cell_type": "code",
   "execution_count": null,
   "outputs": [],
   "source": [
    "# Моделі Ridge, Lasso та ElasticNet\n",
    "models = [\n",
    "    (\"Ridge\", Ridge()),\n",
    "    (\"Lasso\", Lasso()),\n",
    "    (\"ElasticNet\", ElasticNet())\n",
    "]\n",
    "\n",
    "# Навчання та оцінка моделей\n",
    "for name, model in models:\n",
    "    model.fit(X_train, y_train)\n",
    "    y_pred = model.predict(X_test)\n",
    "    mse = mean_squared_error(y_test, y_pred)\n",
    "    print(f\"{name}: {mse}\")"
   ],
   "metadata": {
    "collapsed": false
   }
  },
  {
   "cell_type": "markdown",
   "source": [
    "Висновок: З цих результатів видно, що найкращою моделлю є Ridge, оскільки вона має найменше значення середньоквадратичної помилки."
   ],
   "metadata": {
    "collapsed": false
   }
  }
 ],
 "metadata": {
  "kernelspec": {
   "display_name": "Python 3",
   "language": "python",
   "name": "python3"
  },
  "language_info": {
   "codemirror_mode": {
    "name": "ipython",
    "version": 2
   },
   "file_extension": ".py",
   "mimetype": "text/x-python",
   "name": "python",
   "nbconvert_exporter": "python",
   "pygments_lexer": "ipython2",
   "version": "2.7.6"
  }
 },
 "nbformat": 4,
 "nbformat_minor": 0
}
