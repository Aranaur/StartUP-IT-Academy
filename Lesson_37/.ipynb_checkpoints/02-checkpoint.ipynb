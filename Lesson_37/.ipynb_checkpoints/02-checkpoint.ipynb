{
 "cells": [
  {
   "cell_type": "markdown",
   "metadata": {},
   "source": [
    "# Завдання 2\n",
    "Використовуючи датасет з файлу `communities.csv`, виконати нормалізацію даних. Визначте найкращий метод нормалізації для даного набору даних.\n",
    "\n",
    "## Рішення"
   ]
  },
  {
   "cell_type": "code",
   "execution_count": 23,
   "metadata": {},
   "outputs": [
    {
     "data": {
      "text/plain": [
       "8           int64\n",
       "1           int64\n",
       "0.19      float64\n",
       "0.33      float64\n",
       "0.02      float64\n",
       "           ...   \n",
       "0.12.2    float64\n",
       "0.26.1    float64\n",
       "0.2.1     float64\n",
       "0.32.2    float64\n",
       "0.2.2     float64\n",
       "Length: 102, dtype: object"
      ]
     },
     "execution_count": 23,
     "metadata": {},
     "output_type": "execute_result"
    }
   ],
   "source": [
    "import pandas as pd\n",
    "import numpy as np\n",
    "from sklearn.model_selection import train_test_split\n",
    "from sklearn.linear_model import LogisticRegression\n",
    "from sklearn.metrics import mean_squared_error\n",
    "import matplotlib.pyplot as plt\n",
    "\n",
    "# Завантаження даних\n",
    "data = pd.read_csv('communities.csv')\n",
    "numeric_cols = data.select_dtypes(include=np.number).columns.tolist()\n",
    "data = data[numeric_cols]\n",
    "data.dtypes"
   ]
  },
  {
   "cell_type": "code",
   "execution_count": 18,
   "metadata": {},
   "outputs": [],
   "source": [
    "X = data.drop(\"1\", axis=1)\n",
    "y = data[\"1\"]\n",
    "X_train, X_test, y_train, y_test = train_test_split(X, y, test_size=0.2, random_state=2023)"
   ]
  },
  {
   "cell_type": "code",
   "execution_count": 28,
   "metadata": {},
   "outputs": [
    {
     "name": "stdout",
     "output_type": "stream",
     "text": [
      "Ridge: 16.49874686716792\n",
      "Lasso: 15.571428571428571\n",
      "ElasticNet: 15.563909774436091\n"
     ]
    }
   ],
   "source": [
    "# Моделі Ridge, Lasso та ElasticNet\n",
    "models = [\n",
    "    (\"Ridge\", LogisticRegression(penalty='l2', max_iter=10000)),\n",
    "    (\"Lasso\", LogisticRegression(penalty='l1', max_iter=10000, solver='liblinear')),\n",
    "    (\"ElasticNet\", LogisticRegression(penalty='elasticnet', max_iter=10000, solver='saga', l1_ratio=1))\n",
    "]\n",
    "\n",
    "# Навчання та оцінка моделей\n",
    "for name, model in models:\n",
    "    model.fit(X_train, y_train)\n",
    "    y_pred = model.predict(X_test)\n",
    "    mse = mean_squared_error(y_test, y_pred)\n",
    "    print(f\"{name}: {mse}\")"
   ]
  },
  {
   "cell_type": "markdown",
   "metadata": {},
   "source": [
    "### Висновок: З цих результатів видно, що найкращою моделлю є ElasticNet, оскільки вона має найменше значення середньоквадратичного відхилення."
   ]
  }
 ],
 "metadata": {
  "kernelspec": {
   "display_name": "Python 3 (ipykernel)",
   "language": "python",
   "name": "python3"
  },
  "language_info": {
   "codemirror_mode": {
    "name": "ipython",
    "version": 3
   },
   "file_extension": ".py",
   "mimetype": "text/x-python",
   "name": "python",
   "nbconvert_exporter": "python",
   "pygments_lexer": "ipython3",
   "version": "3.10.8"
  }
 },
 "nbformat": 4,
 "nbformat_minor": 1
}
