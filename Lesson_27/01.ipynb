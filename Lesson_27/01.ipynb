{
 "cells": [
  {
   "cell_type": "markdown",
   "source": [
    "# Завдання 1\n",
    "Мікропроцесор має 10000 транзисторів, які працюють незалежно один від одного. Імовірність того, що транзистор вийде з ладу під час роботи, є величиною малоймовірною і становить 0,0007. Визначити математичне сподівання $M(X)$ і середнє квадратичне відхилення $S(X)$ випадкової величини $X$ - числа транзисторів, що вийдуть із ладу під час роботи мікропроцесора.\n",
    "\n",
    "## Рішення:\n",
    "Маємо справу з розподілом Пуассона.\n",
    "1. Математичне сподівання:"
   ],
   "metadata": {
    "collapsed": false
   }
  },
  {
   "cell_type": "code",
   "execution_count": 13,
   "outputs": [
    {
     "data": {
      "text/plain": "<IPython.core.display.Markdown object>",
      "text/markdown": "Математичне сподівання $M(X)$ дорівнює 7.0"
     },
     "execution_count": 13,
     "metadata": {},
     "output_type": "execute_result"
    }
   ],
   "source": [
    "from IPython.display import Markdown as md\n",
    "n = 10000\n",
    "p = 0.0007\n",
    "M_x = n * p\n",
    "md(f'Математичне сподівання $M(X)$ дорівнює {M_x}')"
   ],
   "metadata": {
    "collapsed": false
   }
  },
  {
   "cell_type": "markdown",
   "source": [
    "2. Дисперсія:"
   ],
   "metadata": {
    "collapsed": false
   }
  },
  {
   "cell_type": "code",
   "execution_count": 14,
   "outputs": [
    {
     "data": {
      "text/plain": "<IPython.core.display.Markdown object>",
      "text/markdown": "Дисперсія $D(X)$ дорівнює 7.0"
     },
     "execution_count": 14,
     "metadata": {},
     "output_type": "execute_result"
    }
   ],
   "source": [
    "D_x = M_x\n",
    "md(f'Дисперсія $D(X)$ дорівнює {D_x}')"
   ],
   "metadata": {
    "collapsed": false
   }
  },
  {
   "cell_type": "markdown",
   "source": [
    "3. Середньоквадратичне відхилення:"
   ],
   "metadata": {
    "collapsed": false
   }
  },
  {
   "cell_type": "code",
   "execution_count": 15,
   "outputs": [
    {
     "data": {
      "text/plain": "<IPython.core.display.Markdown object>",
      "text/markdown": "Середньоквадратичне відхилення $\\sigma_X$ дорівнює 2.65"
     },
     "execution_count": 15,
     "metadata": {},
     "output_type": "execute_result"
    }
   ],
   "source": [
    "S_x = D_x ** 0.5\n",
    "md(f'Середньоквадратичне відхилення $\\sigma_X$ дорівнює {round(S_x, 2)}')"
   ],
   "metadata": {
    "collapsed": false
   }
  }
 ],
 "metadata": {
  "kernelspec": {
   "display_name": "Python 3",
   "language": "python",
   "name": "python3"
  },
  "language_info": {
   "codemirror_mode": {
    "name": "ipython",
    "version": 2
   },
   "file_extension": ".py",
   "mimetype": "text/x-python",
   "name": "python",
   "nbconvert_exporter": "python",
   "pygments_lexer": "ipython2",
   "version": "2.7.6"
  }
 },
 "nbformat": 4,
 "nbformat_minor": 0
}
