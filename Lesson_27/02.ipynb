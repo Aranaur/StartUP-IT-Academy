{
 "cells": [
  {
   "cell_type": "markdown",
   "source": [
    "# Завдання 2\n",
    "У рибальському містечку 99,99% чоловіків хоча б раз в житті були на рибалці. Проводять соціологічні дослідження серед 10000 навмання вибраних чоловіків. Визначити дисперсію $D(X)$ і середнє квадратичне відхилення $S(X)$ випадкової величини $Х$ - числа чоловіків, які жодного разу не були на рибалці.\n",
    "\n",
    "## Рішення:\n",
    "1. Ймовірність того, що чоловік не був на рибалці жодного разу:"
   ],
   "metadata": {
    "collapsed": false
   }
  },
  {
   "cell_type": "code",
   "execution_count": 9,
   "outputs": [
    {
     "name": "stdout",
     "output_type": "stream",
     "text": [
      "Ймовірність того, що чоловік жодного разу не був на рибалці становить 0.01%\n"
     ]
    }
   ],
   "source": [
    "p_x = (100 - 99.99) / 100\n",
    "print(f'Ймовірність того, що чоловік жодного разу не був на рибалці становить {round(p_x * 100, 2)}%')"
   ],
   "metadata": {
    "collapsed": false
   }
  },
  {
   "cell_type": "markdown",
   "source": [
    "2. Дисперсія:"
   ],
   "metadata": {
    "collapsed": false
   }
  },
  {
   "cell_type": "code",
   "execution_count": 10,
   "outputs": [
    {
     "name": "stdout",
     "output_type": "stream",
     "text": [
      "Дисперсія того, що чоловік жодного разу не був на рибалці становить 1.0\n"
     ]
    }
   ],
   "source": [
    "n = 10000\n",
    "D_x = n * p_x\n",
    "print(f'Дисперсія того, що чоловік жодного разу не був на рибалці становить {round(D_x, 2)}')"
   ],
   "metadata": {
    "collapsed": false
   }
  },
  {
   "cell_type": "markdown",
   "source": [
    "3. Середньоквадратичне відхилення:"
   ],
   "metadata": {
    "collapsed": false
   }
  },
  {
   "cell_type": "code",
   "execution_count": 11,
   "outputs": [
    {
     "name": "stdout",
     "output_type": "stream",
     "text": [
      "Середньоквадратичне відхилення дорівнює 1.0\n"
     ]
    }
   ],
   "source": [
    "S_x = D_x ** 0.5\n",
    "print(f'Середньоквадратичне відхилення дорівнює {round(S_x, 2)}')"
   ],
   "metadata": {
    "collapsed": false
   }
  }
 ],
 "metadata": {
  "kernelspec": {
   "display_name": "Python 3",
   "language": "python",
   "name": "python3"
  },
  "language_info": {
   "codemirror_mode": {
    "name": "ipython",
    "version": 2
   },
   "file_extension": ".py",
   "mimetype": "text/x-python",
   "name": "python",
   "nbconvert_exporter": "python",
   "pygments_lexer": "ipython2",
   "version": "2.7.6"
  }
 },
 "nbformat": 4,
 "nbformat_minor": 0
}
