{
 "cells": [
  {
   "cell_type": "markdown",
   "source": [
    "# Завдання 1\n",
    "Ймовірність того, що телевізор витримає гарантійний термін роботи, дорівнює 0,9 для всіх 100 телевізорів, які обслуговує гарантійна майстерня. Оцінити ймовірність того, що число телевізорів, які витримають гарантійний термін роботи, буде в межах [85;95].\n",
    "\n",
    "## Рішення:\n",
    "Математичне сподівання кількості телевізорів, які витримають гарантійний термін: $M(X)=100 \\times 0.9 = 90$\n",
    "\n",
    "Відповідно дисперсія: $D(X) = 100 \\times 0.9 \\times (1-0.9) = 9$\n",
    "\n",
    "Для оцінювання ймовірності:\n",
    "$$P(|X - M(X)| \\leq \\varepsilon) \\geq 1 - \\frac{D(X)}{\\varepsilon^2}$$\n",
    "\n",
    "Тоді:\n",
    "\n",
    " - відхилення $\\varepsilon = | 95 - 90 | = |85 - 90| = 5$\n",
    "- $P(|X - 90| \\leq 5) \\geq 1 - \\frac{9}{5^2}$\n",
    "- $P(|X - 90| \\leq 5) \\geq 0.64$\n",
    "\n",
    "**Відповідь:** Ймовірність того, що число телевізорів, які витримають гарантійний термін роботи, буде в межах [85;95] становить 64%."
   ],
   "metadata": {
    "collapsed": false
   }
  }
 ],
 "metadata": {
  "kernelspec": {
   "display_name": "Python 3",
   "language": "python",
   "name": "python3"
  },
  "language_info": {
   "codemirror_mode": {
    "name": "ipython",
    "version": 2
   },
   "file_extension": ".py",
   "mimetype": "text/x-python",
   "name": "python",
   "nbconvert_exporter": "python",
   "pygments_lexer": "ipython2",
   "version": "2.7.6"
  }
 },
 "nbformat": 4,
 "nbformat_minor": 0
}
