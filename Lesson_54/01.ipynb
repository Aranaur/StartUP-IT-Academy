{
 "cells": [
  {
   "cell_type": "markdown",
   "source": [
    "# Завдання\n",
    "Використовуючи pytorch, створіть на основі двошарової нейромережі тришарову. Оцініть її похибку та точність визначення класів.\n",
    "Після цього використайте для оцінки похибки Mean Squared Error, в якості оптимізатора – Adam. Порівняйте, чи змінилась похибка та точність.\n",
    "\n",
    "## Рішення"
   ],
   "metadata": {
    "collapsed": false
   }
  },
  {
   "cell_type": "code",
   "execution_count": 19,
   "outputs": [],
   "source": [
    "import torch\n",
    "import torch.nn as nn\n",
    "import torch.optim as optim"
   ],
   "metadata": {
    "collapsed": false
   }
  },
  {
   "cell_type": "code",
   "execution_count": 20,
   "outputs": [
    {
     "name": "stdout",
     "output_type": "stream",
     "text": [
      "Epoch: 0, Loss: 0.206880\n",
      "Epoch: 100, Loss: 0.004942\n",
      "Epoch: 200, Loss: 0.000581\n",
      "Epoch: 300, Loss: 0.007445\n",
      "Epoch: 400, Loss: 0.050254\n",
      "Epoch: 500, Loss: 0.081493\n",
      "Epoch: 600, Loss: 0.000163\n",
      "Epoch: 700, Loss: 0.000000\n",
      "Epoch: 800, Loss: 0.003721\n",
      "Epoch: 900, Loss: 0.008877\n",
      "Test Loss: 0.000006, Accuracy: 99.08%\n"
     ]
    }
   ],
   "source": [
    "# Задаємо гіперпараметри\n",
    "input_size = 2\n",
    "hidden_size1 = 10\n",
    "hidden_size2 = 5\n",
    "output_size = 1\n",
    "learning_rate = 0.01\n",
    "num_epochs = 1000\n",
    "batch_size = 10\n",
    "\n",
    "# Генеруємо випадкові дані\n",
    "X_tensor = torch.rand (1200, 2)\n",
    "y_tensor = (torch.sum((X_tensor - 0.5)**2, axis=1) < 0.1).float().view(-1,1)\n",
    "\n",
    "# Створюємо модель та визначаємо функцію втрат та оптимізатор\n",
    "model = nn.Sequential(\n",
    "    nn.Linear(input_size, hidden_size1),\n",
    "    nn.ReLU(),\n",
    "    nn.Linear(hidden_size1, hidden_size2),\n",
    "    nn.ReLU(),\n",
    "    nn.Linear(hidden_size2, output_size),\n",
    "    nn.Sigmoid()\n",
    ")\n",
    "criterion = nn.MSELoss()\n",
    "optimizer = optim.Adam(model.parameters(), lr=learning_rate)\n",
    "\n",
    "# Навчання моделі\n",
    "for epoch in range(num_epochs):\n",
    "    permutation = torch.randperm(X_tensor.size()[0])\n",
    "    for i in range(0, X_tensor.size()[0], batch_size):\n",
    "        indices = permutation[i:i+batch_size]\n",
    "        batch_X, batch_y = X_tensor[indices], y_tensor[indices]\n",
    "        optimizer.zero_grad()\n",
    "        output = model(batch_X)\n",
    "        loss = criterion(output, batch_y)\n",
    "        loss.backward()\n",
    "        optimizer.step()\n",
    "    if epoch % 100 == 0:\n",
    "        print('Epoch: {}, Loss: {:.6f}'.format(epoch, loss.item()))\n",
    "\n",
    "# Оцінка моделі\n",
    "model.eval()\n",
    "test_loss = 0\n",
    "correct = 0\n",
    "with torch.no_grad():\n",
    "    output = model(X_tensor)\n",
    "    test_loss = criterion(output, y_tensor).item() # Обчислюємо втрати на тестових даних\n",
    "    pred = output.round() # Визначаємо передбачені класи\n",
    "    correct = (pred == y_tensor).sum().item() # Обчислюємо кількість правильних передбачень\n",
    "\n",
    "test_loss /= X_tensor.size()[0] # Обчислюємо середні втрати на тестових даних\n",
    "accuracy = 100. * correct / X_tensor.size()[0] # Обчислюємо точність\n",
    "print('Test Loss: {:.6f}, Accuracy: {:.2f}%'.format(test_loss, accuracy))"
   ],
   "metadata": {
    "collapsed": false
   }
  }
 ],
 "metadata": {
  "kernelspec": {
   "display_name": "Python 3",
   "language": "python",
   "name": "python3"
  },
  "language_info": {
   "codemirror_mode": {
    "name": "ipython",
    "version": 2
   },
   "file_extension": ".py",
   "mimetype": "text/x-python",
   "name": "python",
   "nbconvert_exporter": "python",
   "pygments_lexer": "ipython2",
   "version": "2.7.6"
  }
 },
 "nbformat": 4,
 "nbformat_minor": 0
}
