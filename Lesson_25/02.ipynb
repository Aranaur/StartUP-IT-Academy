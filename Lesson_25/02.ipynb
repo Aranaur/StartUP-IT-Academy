{
 "cells": [
  {
   "cell_type": "markdown",
   "source": [
    "# Завдання 2\n",
    "\n",
    "Розглянемо дві різні умовні акції X і Y. Для кожної з них за допомогою статистичних досліджень були розраховані відносні частоти очікуваних прибутків залежно від п'яти станів економічного середовища: значне піднесення(ЗП), незначне піднесення(НЗП), стагнація(С), незначний спад(НЗС), значний спад(ЗС). Ці дані занесені відповідно в останній рядок і останній стовпчик таблиці. Залежно від економічного середовища прогнозовані норми очікуваних прибутків у відсотках задані відповідно у першому рядку та першому стовпчику таблиці. У клітинах на перетині X i Y проставлені ймовірності появи норм відсотків значень (х, у).\n",
    "\n",
    "| **Y / X** |10      | 5      | 2      | 1      | -5     | P(Y)  |\n",
    "| :---      | :----: | :----: | :----: | :----: | :----: | ---:  |\n",
    "| **20**    | 0,01   | 0,03   | 0,02   | 0,03   |0,01    |**0,1**|\n",
    "| **10**    | 0,03   | 0,09   | 0,06   | 0,09   |0,03    |**0,3**|\n",
    "| **2**     | 0,02   | 0,06   | 0,04   | 0,06   |0,02    |**0,2**|\n",
    "| **-2**    | 0,03   | 0,09   | 0,06   | 0,09   |0,03    |**0,3**|\n",
    "| **-8**    | 0,01   | 0,03   | 0,02   | 0,03   |0,01    |**0,1**|\n",
    "| **P(X)**  | **0,1**|**0,3** |**0,2** |**0,3** |**0,1** |**1**  |\n",
    "\n",
    "Необхідно:\n",
    "\n",
    "1) обчислити очікувану норму прибутку по кожній з акцій;\n",
    "2) оцінити ступінь ризику обох акцій за допомогою середньоквадратичного відхилення;\n",
    "3) проаналізувати наявність зв'язку між акціями X та Y за допомогою коефіціентів коваріації та кореляції.\n",
    "\n",
    "## Рішення\n",
    "\n",
    "1. Задаємо початкові значення:"
   ],
   "metadata": {
    "collapsed": false
   }
  },
  {
   "cell_type": "code",
   "execution_count": 79,
   "outputs": [],
   "source": [
    "import numpy as np\n",
    "\n",
    "X = np.array([10, 5, 2, 1, -5])\n",
    "Y = np.array([20, 10, 2, -2, -8])\n",
    "P_XY = np.array([[0.01, 0.03, 0.02, 0.03, 0.01],\n",
    "                 [0.03, 0.09, 0.06, 0.09, 0.03],\n",
    "                 [0.02, 0.06, 0.04, 0.06, 0.02],\n",
    "                 [0.03, 0.09, 0.06, 0.09, 0.03],\n",
    "                 [0.01, 0.03, 0.02, 0.03, 0.01]])\n",
    "PX = np.array([0.1, 0.3, 0.2, 0.3, 0.1])\n",
    "PY = np.array([0.1, 0.3, 0.2, 0.3, 0.1])"
   ],
   "metadata": {
    "collapsed": false
   }
  },
  {
   "cell_type": "markdown",
   "source": [
    "2. Математичне сподівання:"
   ],
   "metadata": {
    "collapsed": false
   }
  },
  {
   "cell_type": "code",
   "execution_count": 80,
   "outputs": [],
   "source": [
    "M_X = sum(X * PX)\n",
    "M_Y = sum(Y * PY)"
   ],
   "metadata": {
    "collapsed": false
   }
  },
  {
   "cell_type": "markdown",
   "source": [
    "3. Дисперсія:"
   ],
   "metadata": {
    "collapsed": false
   }
  },
  {
   "cell_type": "code",
   "execution_count": 81,
   "outputs": [],
   "source": [
    "D_X = sum(X**2 * PX) - M_X ** 2\n",
    "D_Y = sum(Y**2 * PY) - M_Y ** 2"
   ],
   "metadata": {
    "collapsed": false
   }
  },
  {
   "cell_type": "markdown",
   "source": [
    "4. Стандартне відхилення:"
   ],
   "metadata": {
    "collapsed": false
   }
  },
  {
   "cell_type": "code",
   "execution_count": 82,
   "outputs": [],
   "source": [
    "S_X = D_X ** 0.5\n",
    "S_Y = D_Y ** 0.5"
   ],
   "metadata": {
    "collapsed": false
   }
  },
  {
   "cell_type": "markdown",
   "source": [
    "5. Коваріація:"
   ],
   "metadata": {
    "collapsed": false
   }
  },
  {
   "cell_type": "code",
   "execution_count": 83,
   "outputs": [],
   "source": [
    "M_XY = sum(X * np.dot(Y, P_XY))\n",
    "cov_XY = M_XY - M_X * M_Y"
   ],
   "metadata": {
    "collapsed": false
   }
  },
  {
   "cell_type": "markdown",
   "source": [
    "6. Кореляція:"
   ],
   "metadata": {
    "collapsed": false
   }
  },
  {
   "cell_type": "code",
   "execution_count": 84,
   "outputs": [],
   "source": [
    "r_XY = cov_XY / (S_X * S_Y)"
   ],
   "metadata": {
    "collapsed": false
   }
  },
  {
   "cell_type": "markdown",
   "source": [
    "**Відповідь**:"
   ],
   "metadata": {
    "collapsed": false
   }
  },
  {
   "cell_type": "code",
   "execution_count": 85,
   "outputs": [
    {
     "data": {
      "text/plain": "<IPython.core.display.Markdown object>",
      "text/markdown": "1. Очікувана норма прибутку для акції X = 2.7, а для акції Y = 4.0. Акція Y більш прибуткова.\n2. Але і ступінь ризику акції Y (7.9) вищій ніж в акції X (3.72)\n3. Лінійного взаємозв'язку між акціями за показниками коваріації (-0.0) та кореляції (-0.0) не спостерігається"
     },
     "execution_count": 85,
     "metadata": {},
     "output_type": "execute_result"
    }
   ],
   "source": [
    "from IPython.display import Markdown as md\n",
    "md(f\"1. Очікувана норма прибутку для акції X = {round(M_X, 2)}, а для акції Y = {round(M_Y, 2)}. Акція Y більш прибуткова.\\n\"\n",
    "   f\"2. Але і ступінь ризику акції Y ({round(S_Y, 2)}) вищій ніж в акції X ({round(S_X, 2)}) за показником стандартного відхилення.\\n\"\n",
    "   f\"3. Лінійного взаємозв'язку між акціями за показниками коваріації ({round(cov_XY, 2)}) та кореляції ({round(r_XY, 2)}) не спостерігається.\")"
   ],
   "metadata": {
    "collapsed": false
   }
  }
 ],
 "metadata": {
  "kernelspec": {
   "display_name": "Python 3",
   "language": "python",
   "name": "python3"
  },
  "language_info": {
   "codemirror_mode": {
    "name": "ipython",
    "version": 2
   },
   "file_extension": ".py",
   "mimetype": "text/x-python",
   "name": "python",
   "nbconvert_exporter": "python",
   "pygments_lexer": "ipython2",
   "version": "2.7.6"
  }
 },
 "nbformat": 4,
 "nbformat_minor": 0
}
