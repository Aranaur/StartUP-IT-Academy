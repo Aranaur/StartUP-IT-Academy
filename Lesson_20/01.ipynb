{
 "cells": [
  {
   "cell_type": "markdown",
   "source": [
    "| **year** | **rank** | **company**           | **revenue** | **profit** |\n",
    "|----------|----------|-----------------------|-------------|------------|\n",
    "| 1955     | 229      | Norton                | 135.0       | N.A.       |\n",
    "| 1955     | 291      | Schlitz Brewing       | 100.0       | N.A        |\n",
    "| 1955     | 295      | Pacific Vegetable Oil | 97.9        | N.A        |\n",
    "| 1955     | 297      | Liebmann Breweries    | 96.0        | N.A        |\n",
    "| 1955     | 353      | Minneapolis-Moline    | 77.4        | N.A        |"
   ],
   "metadata": {
    "collapsed": false
   }
  },
  {
   "cell_type": "code",
   "execution_count": null,
   "outputs": [],
   "source": [],
   "metadata": {
    "collapsed": false
   }
  }
 ],
 "metadata": {
  "kernelspec": {
   "display_name": "Python 3",
   "language": "python",
   "name": "python3"
  },
  "language_info": {
   "codemirror_mode": {
    "name": "ipython",
    "version": 2
   },
   "file_extension": ".py",
   "mimetype": "text/x-python",
   "name": "python",
   "nbconvert_exporter": "python",
   "pygments_lexer": "ipython2",
   "version": "2.7.6"
  }
 },
 "nbformat": 4,
 "nbformat_minor": 0
}
