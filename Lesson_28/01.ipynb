{
 "cells": [
  {
   "cell_type": "markdown",
   "source": [
    "# Завдання 1\n",
    "З генеральної сукупності, розподіленої за нормальним законом, отримано вибірку об'ємом $n=20$\n",
    "\n",
    "| $x_i$ | 1 | 2 |  4 | 6 | 7 |\n",
    "|:-----:|---|---|:--:|:-:|:-:|\n",
    "| $n_i$ | 2 | 3 | 10 | 3 | 2 |\n",
    "\n",
    "Знайти з надійністю $\\gamma =0.95$ інтервальну оцінку для середньо квадратичного відхилення $\\sigma$ генеральної сукупності.\n",
    "\n",
    "## Рішення:\n",
    "\n",
    "#### Варіант 1. Через $\\chi^2$: $$\\frac{(n-1)*s^2}{\\chi^2_{\\alpha/2}} < \\sigma^2 < \\frac{(n-1)*s^2}{\\chi^2_{1 - \\alpha/2}}$$"
   ],
   "metadata": {
    "collapsed": false
   }
  },
  {
   "cell_type": "code",
   "execution_count": 49,
   "outputs": [
    {
     "name": "stdout",
     "output_type": "stream",
     "text": [
      "1. Математичне сподівання дорівнює 4.0\n",
      "2. Дисперсія дорівнює 3.16\n",
      "3. Середньоквадратичне відхилення дорівнює 1.78\n",
      "\n"
     ]
    },
    {
     "data": {
      "text/plain": "<IPython.core.display.Markdown object>",
      "text/markdown": "Відповідь: тоді довірчий інтервал середньоквадратичного відхилення генеральної сукупності: 1.35 < $\\sigma$ < 2.6"
     },
     "execution_count": 49,
     "metadata": {},
     "output_type": "execute_result"
    }
   ],
   "source": [
    "import numpy as np\n",
    "import scipy as sp\n",
    "from IPython.display import Markdown as md\n",
    "\n",
    "x = np.array([1, 2, 4, 6, 7])\n",
    "n = np.array([2, 3, 10, 3, 2])\n",
    "N = sum(n)\n",
    "gamma = 0.95\n",
    "delta = (1 - gamma) / 2\n",
    "\n",
    "mean_x = np.dot(x, n) / N\n",
    "\n",
    "var = sum(((x - mean_x) ** 2) * n) / (N-1)\n",
    "sd_x = np.sqrt(var)\n",
    "\n",
    "chi_low = sp.stats.chi2.ppf(gamma + delta, N-1)\n",
    "chi_up = sp.stats.chi2.ppf(delta, N-1)\n",
    "\n",
    "ci_low = np.sqrt(((N-1) * var) / chi_low)\n",
    "ci_hi = np.sqrt(((N-1) * var) / chi_up)\n",
    "\n",
    "print(f'1. Математичне сподівання дорівнює {round(mean_x, 2)}\\n'\n",
    "      f'2. Дисперсія дорівнює {round(var, 2)}\\n'\n",
    "      f'3. Середньоквадратичне відхилення дорівнює {round(sd_x, 2)}\\n')\n",
    "md(f'Відповідь: тоді довірчий інтервал середньоквадратичного відхилення генеральної сукупності: {round(ci_low, 2)} < $\\sigma$ < {round(ci_hi, 2)}')"
   ],
   "metadata": {
    "collapsed": false
   }
  },
  {
   "cell_type": "markdown",
   "source": [
    "#### Варіант 2. Рішення за формулою: $$s(1-q) < \\sigma < s(1+q)$$\n",
    "\n",
    "$q = 0.37$, за умови $n=20$ та $\\gamma = 0.95$"
   ],
   "metadata": {
    "collapsed": false
   }
  },
  {
   "cell_type": "code",
   "execution_count": 50,
   "outputs": [
    {
     "data": {
      "text/plain": "<IPython.core.display.Markdown object>",
      "text/markdown": "Відповідь: тоді довірчий інтервал середньоквадратичного відхилення генеральної сукупності: 1.12 < $\\sigma$ < 2.43"
     },
     "execution_count": 50,
     "metadata": {},
     "output_type": "execute_result"
    }
   ],
   "source": [
    "q = 0.37\n",
    "ci_q_low = sd_x * (1 - q)\n",
    "ci_q_hi = sd_x * (1 + q)\n",
    "\n",
    "md(f'Відповідь: тоді довірчий інтервал середньоквадратичного відхилення генеральної сукупності: {round(ci_q_low, 2)} < $\\sigma$ < {round(ci_q_hi, 2)}')"
   ],
   "metadata": {
    "collapsed": false
   }
  }
 ],
 "metadata": {
  "kernelspec": {
   "display_name": "Python 3",
   "language": "python",
   "name": "python3"
  },
  "language_info": {
   "codemirror_mode": {
    "name": "ipython",
    "version": 2
   },
   "file_extension": ".py",
   "mimetype": "text/x-python",
   "name": "python",
   "nbconvert_exporter": "python",
   "pygments_lexer": "ipython2",
   "version": "2.7.6"
  }
 },
 "nbformat": 4,
 "nbformat_minor": 0
}
