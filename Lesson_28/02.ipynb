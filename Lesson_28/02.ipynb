{
 "cells": [
  {
   "cell_type": "markdown",
   "source": [
    "# Завдання 2\n",
    "Знайти з надійністю $\\gamma=0.95$ інтервальну оцінку для ймовірності настання події $А$ в кожному із $n =100$ незалежних повторних випробувань, якщо подія відбулась $m = 40$ раз.\n",
    "\n",
    "## Рішення:\n",
    "$$\\frac{1}{t^2+n} \\left( m+\\frac{t^2}{2} - t\\sqrt{\\frac{m(n-m)}{n} +\\frac{t^2}{4}}\\right) < p < \\frac{1}{t^2+n} \\left( m+\\frac{t^2}{2} + t\\sqrt{\\frac{m(n-m)}{n} +\\frac{t^2}{4}}\\right)$$\n",
    "\n",
    "За заданих умов $t=1.96$.\n",
    "Тоді:"
   ],
   "metadata": {
    "collapsed": false
   }
  },
  {
   "cell_type": "code",
   "execution_count": 35,
   "outputs": [
    {
     "data": {
      "text/plain": "<IPython.core.display.Markdown object>",
      "text/markdown": "Відповідь: довірчий інтервал для ймовірності настання події $А$: 0.309 < $p$ <0.498"
     },
     "execution_count": 35,
     "metadata": {},
     "output_type": "execute_result"
    }
   ],
   "source": [
    "from IPython.display import Markdown as md\n",
    "\n",
    "n = 100\n",
    "m = 40\n",
    "t = 1.96\n",
    "\n",
    "p_lower = 1/(t ** 2 + n) * ((m + (t ** 2)/2) - t*((m*(n-m))/n + (t ** 2) / 4) ** 0.5)\n",
    "p_upper = 1/(t ** 2 + n) * ((m + (t ** 2)/2) + t*((m*(n-m))/n + (t ** 2) / 4) ** 0.5)\n",
    "\n",
    "md(f'Відповідь: довірчий інтервал для ймовірності настання події $А$: {round(p_lower, 3)} < $p$ <{round(p_upper, 3)}')"
   ],
   "metadata": {
    "collapsed": false
   }
  }
 ],
 "metadata": {
  "kernelspec": {
   "display_name": "Python 3",
   "language": "python",
   "name": "python3"
  },
  "language_info": {
   "codemirror_mode": {
    "name": "ipython",
    "version": 2
   },
   "file_extension": ".py",
   "mimetype": "text/x-python",
   "name": "python",
   "nbconvert_exporter": "python",
   "pygments_lexer": "ipython2",
   "version": "2.7.6"
  }
 },
 "nbformat": 4,
 "nbformat_minor": 0
}
