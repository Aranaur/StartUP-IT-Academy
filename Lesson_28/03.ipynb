{
 "cells": [
  {
   "cell_type": "markdown",
   "source": [
    "# Завдання 3\n",
    "Знайти мінімальний об'єм вибірки, при якому з надійністю $\\gamma=0.99$ точність оцінки математичного сподівання $а$ нормально розподіленої ознаки дорівнює $\\delta=0.6$, якщо середнє квадратичне відхилення $\\sigma=3$.\n",
    "\n",
    "## Рішення:\n",
    "$$n = \\frac{t^2\\sigma^2}{\\delta^2}$$\n",
    "\n",
    "За умовами задачі $t= 2.58$\n",
    "Тоді:"
   ],
   "metadata": {
    "collapsed": false
   }
  },
  {
   "cell_type": "code",
   "execution_count": 4,
   "outputs": [
    {
     "name": "stdout",
     "output_type": "stream",
     "text": [
      "Відповідь: мінімальний об'єм вибірки дорівнює 166.0\n"
     ]
    }
   ],
   "source": [
    "gamma = 0.99\n",
    "delta = 0.6\n",
    "sigma = 3\n",
    "t = 2.58\n",
    "n = (t**2 * sigma**2)/delta**2\n",
    "print(f'Відповідь: мінімальний об\\'єм вибірки дорівнює {round(n, 0)}')"
   ],
   "metadata": {
    "collapsed": false
   }
  }
 ],
 "metadata": {
  "kernelspec": {
   "display_name": "Python 3",
   "language": "python",
   "name": "python3"
  },
  "language_info": {
   "codemirror_mode": {
    "name": "ipython",
    "version": 2
   },
   "file_extension": ".py",
   "mimetype": "text/x-python",
   "name": "python",
   "nbconvert_exporter": "python",
   "pygments_lexer": "ipython2",
   "version": "2.7.6"
  }
 },
 "nbformat": 4,
 "nbformat_minor": 0
}
